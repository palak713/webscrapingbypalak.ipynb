{
  "nbformat": 4,
  "nbformat_minor": 0,
  "metadata": {
    "colab": {
      "name": "Copy of webscrapingbypalak.ipynb",
      "provenance": []
    },
    "kernelspec": {
      "name": "python3",
      "display_name": "Python 3"
    }
  },
  "cells": [
    {
      "cell_type": "code",
      "metadata": {
        "colab": {
          "base_uri": "https://localhost:8080/"
        },
        "id": "ySnZALO0E-HE",
        "outputId": "cc15f4dc-f59a-4ff5-f527-1a09eefee5ea"
      },
      "source": [
        "pip install bs4"
      ],
      "execution_count": null,
      "outputs": [
        {
          "output_type": "stream",
          "text": [
            "Requirement already satisfied: bs4 in /usr/local/lib/python3.6/dist-packages (0.0.1)\n",
            "Requirement already satisfied: beautifulsoup4 in /usr/local/lib/python3.6/dist-packages (from bs4) (4.6.3)\n"
          ],
          "name": "stdout"
        }
      ]
    },
    {
      "cell_type": "code",
      "metadata": {
        "colab": {
          "base_uri": "https://localhost:8080/"
        },
        "id": "eMhF0DHOFHvl",
        "outputId": "ce309eee-8196-450a-b654-edff0cf66d99"
      },
      "source": [
        "pip install requests"
      ],
      "execution_count": null,
      "outputs": [
        {
          "output_type": "stream",
          "text": [
            "Requirement already satisfied: requests in /usr/local/lib/python3.6/dist-packages (2.23.0)\n",
            "Requirement already satisfied: chardet<4,>=3.0.2 in /usr/local/lib/python3.6/dist-packages (from requests) (3.0.4)\n",
            "Requirement already satisfied: certifi>=2017.4.17 in /usr/local/lib/python3.6/dist-packages (from requests) (2020.11.8)\n",
            "Requirement already satisfied: idna<3,>=2.5 in /usr/local/lib/python3.6/dist-packages (from requests) (2.10)\n",
            "Requirement already satisfied: urllib3!=1.25.0,!=1.25.1,<1.26,>=1.21.1 in /usr/local/lib/python3.6/dist-packages (from requests) (1.24.3)\n"
          ],
          "name": "stdout"
        }
      ]
    },
    {
      "cell_type": "code",
      "metadata": {
        "colab": {
          "base_uri": "https://localhost:8080/"
        },
        "id": "LIMPXyIsFOkh",
        "outputId": "5246f8a6-7f92-4fb4-b7fa-e0deec83b13a"
      },
      "source": [
        "pip install html5lib"
      ],
      "execution_count": null,
      "outputs": [
        {
          "output_type": "stream",
          "text": [
            "Requirement already satisfied: html5lib in /usr/local/lib/python3.6/dist-packages (1.0.1)\n",
            "Requirement already satisfied: six>=1.9 in /usr/local/lib/python3.6/dist-packages (from html5lib) (1.15.0)\n",
            "Requirement already satisfied: webencodings in /usr/local/lib/python3.6/dist-packages (from html5lib) (0.5.1)\n"
          ],
          "name": "stdout"
        }
      ]
    },
    {
      "cell_type": "code",
      "metadata": {
        "id": "UjG17uSuFXMT"
      },
      "source": [
        "import requests\n",
        "from bs4 import BeautifulSoup\n"
      ],
      "execution_count": null,
      "outputs": []
    },
    {
      "cell_type": "markdown",
      "metadata": {
        "id": "WwR1RjB2Jiqn"
      },
      "source": [
        "step 1 : get the html\n",
        "      \n",
        "step2 :parse the html\n",
        "\n",
        "\n",
        "step3: html tree traversal\n"
      ]
    },
    {
      "cell_type": "markdown",
      "metadata": {
        "id": "1V4Ysh_vIBmK"
      },
      "source": [
        "request take out the content from the server html5 lib use to parse the tree."
      ]
    },
    {
      "cell_type": "code",
      "metadata": {
        "colab": {
          "base_uri": "https://localhost:8080/"
        },
        "id": "Bn0w1rsiJHK3",
        "outputId": "27a78ba3-0236-4e78-f7da-355dc215156d"
      },
      "source": [
        "url=\"https://www.codewithharry.com/\"\n",
        "r=requests.get(url)\n",
        "htmlContent=r.content\n",
        "print(htmlContent)"
      ],
      "execution_count": null,
      "outputs": [
        {
          "output_type": "stream",
          "text": [
            "b'<!doctype html>\\n<html lang=\"en\">\\n\\n<head>\\n\\n  <!-- Required meta tags -->\\n  <meta charset=\"utf-8\">\\n  <meta name=\"viewport\" content=\"width=device-width, initial-scale=1, shrink-to-fit=no\">\\n  <meta name=\"description\" content=\"Code With Harry is my attempt to teach basics and those coding techniques to people in short time which took me ages to learn. At Code With Harry, I provide a quick and to the point demo along with resources of anything and everything I teach. Source code and other resources are hosted on my website CodeWithHarry.com. I provide source code(if any) in the description of every video.\\n\"> \\n\\n  \\n  <title>Free Programming Videos, Courses & More In Hindi - Code With Harry</title>\\n  <!-- Bootstrap CSS -->\\n  <link rel=\"stylesheet\" href=\"https://stackpath.bootstrapcdn.com/bootstrap/4.3.1/css/bootstrap.min.css\"\\n    integrity=\"sha384-ggOyR0iXCbMQv3Xipma34MD+dH/1fQ784/j6cY/iJTQUOhcWr7x9JvoRxT2MZw1T\" crossorigin=\"anonymous\">\\n  \\n<link rel=\"stylesheet\" href=\"/static/home/css/index.css\">\\n\\n\\n  \\n  <link rel=\"stylesheet\" href=\"/static/home/css/navbar.css\">\\n  <link rel=\"icon\" type=\"image/png\" href=\"/static/home/img/favicon.png\"> \\n\\n  <!-- Global site tag (gtag.js) - Google Analytics -->\\n  <script async src=\"https://www.googletagmanager.com/gtag/js?id=UA-60726752-3\"></script>\\n  <script>\\n    window.dataLayer = window.dataLayer || [];\\n    function gtag() { dataLayer.push(arguments); }\\n    gtag(\\'js\\', new Date());\\n    gtag(\\'config\\', \\'UA-60726752-3\\');\\n  </script>\\n\\n  <!-- Google Ads Auto -->\\n  <script async src=\"//pagead2.googlesyndication.com/pagead/js/adsbygoogle.js\"></script>\\n  <script>\\n    (adsbygoogle = window.adsbygoogle || []).push({\\n      google_ad_client: \"ca-pub-9655830461045889\",\\n      enable_page_level_ads: true\\n    });\\n  </script>\\n\\n</head>\\n\\n<body>\\n  <nav class=\"navbar navbar-expand-lg navbar-dark bg-dark\">\\n    <a class=\"navbar-brand\" href=\"/\"><img class=\"brandLogo\" src=\"/static/home/img/photo.png\" alt=\"My image\"></a>\\n\\n    <button class=\"navbar-toggler\" type=\"button\" data-toggle=\"collapse\" data-target=\"#navbarSupportedContent\"\\n      aria-controls=\"navbarSupportedContent\" aria-expanded=\"false\" aria-label=\"Toggle navigation\">\\n      <span class=\"navbar-toggler-icon\"></span>\\n    </button>\\n\\n    <div class=\"collapse navbar-collapse\" id=\"navbarSupportedContent\">\\n      <ul class=\"navbar-nav mr-auto\">\\n\\n        <li class=\"nav-item font-weight-bold\">\\n          <a class=\"nav-link\" href=\"/\">Home</a>\\n        </li>\\n\\n        <li class=\"nav-item font-weight-bold\">\\n          <a class=\"nav-link\" href=\"/videos\">Videos</a>\\n        </li>\\n\\n        <li class=\"nav-item font-weight-bold\">\\n          <a class=\"nav-link\" href=\"/blog\">Blog</a>\\n        </li>\\n\\n        <li class=\"nav-item font-weight-bold\">\\n          <a class=\"nav-link\" href=\"/contact\">Contact Me</a>\\n        </li>\\n      </ul>\\n\\n      <form class=\"form-inline my-2 my-lg-0 mr-3\" method=\"get\" action=\"/search/\">\\n        <input class=\"form-control mr-sm-2\" type=\"search\" placeholder=\"Search\" aria-label=\"Search\" name=\"query\">\\n        <button class=\"btn btn-danger my-2 my-sm-0\" type=\"submit\">Search</button>\\n\\n      </form>\\n      \\n      <div>\\n        <button type=\"button\" class=\"btn btn-danger\" data-toggle=\"modal\" data-target=\"#loginModal\">Login</button>\\n        <button type=\"button\" class=\"btn btn-danger\" data-toggle=\"modal\" data-target=\"#signupModal\">SignUp</button>\\n      </div>\\n      \\n    </div>\\n\\n  </nav>\\n  \\n  \\n  <!-- Login Modal -->\\n<div class=\"modal fade\" id=\"loginModal\" tabindex=\"-1\" role=\"dialog\" aria-labelledby=\"loginModal\" aria-hidden=\"true\">\\n    <div class=\"modal-dialog\" role=\"document\">\\n        <div class=\"modal-content\">\\n            \\n            <div class=\"modal-header\">\\n                <h5 class=\"modal-title\" id=\"loginModal\">Login using your credentials</h5>\\n                <button type=\"button\" class=\"close\" data-dismiss=\"modal\" aria-label=\"Close\">\\n                    <span aria-hidden=\"true\">&times;</span>\\n                </button>\\n            </div>\\n\\n            <div class=\"modal-body\">\\n                <form action=\"/profile/login\" method=\\'post\\'><input type=\"hidden\" name=\"csrfmiddlewaretoken\" value=\"OggMI7b19RlPwuYuHA1hhxxwhBDLRxQElIJweoueYznNsHDtWtvJd6SU0f4h7Gez\">\\n                    <div class=\"form-group\">\\n                        <label for=\"lusername\">Username</label>\\n                        <input type=\"name\" class=\"form-control\" id=\"luname\" placeholder=\"Enter your username\"\\n                            name=\"uname\">\\n                    </div>\\n                    <div class=\"form-group\">\\n                        <label for=\"password\">Password</label>\\n                        <input type=\"password\" class=\"form-control\" id=\"lpassword\" placeholder=\"Enter your password\"\\n                            name=\"password\">\\n                    </div>\\n                    <div class=\"g-recaptcha\" data-sitekey=\"6LdvcqwUAAAAACmPYNVoiJA7D84xLSQQt5g9p10m\"></div>\\n                    <input type=\"hidden\" name=\"path\" value=\"/\">\\n\\n                    <button type=\"submit\" class=\"btn btn-danger mt-2\" id=\"loginsubmit\">Login</button>\\n                </form>\\n            </div>\\n\\n            <div class=\"modal-footer\">\\n                <button type=\"button\" class=\"btn btn-secondary\" data-dismiss=\"modal\">Close</button>\\n            </div>\\n\\n        </div>\\n    </div>\\n</div>\\n  <!-- SignUp Modal -->\\n<div class=\"modal fade\" id=\"signupModal\" tabindex=\"-1\" role=\"dialog\" aria-labelledby=\"signupModal\" aria-hidden=\"true\">\\n  <div class=\"modal-dialog\" role=\"document\">\\n    <div class=\"modal-content\">\\n      <div class=\"modal-header\">\\n        <h5 class=\"modal-title\" id=\"signupModal\">SignUp for an account</h5>\\n        <button type=\"button\" class=\"close\" data-dismiss=\"modal\" aria-label=\"Close\">\\n          <span aria-hidden=\"true\">&times;</span>\\n        </button>\\n      </div>\\n\\n      <div class=\"modal-body\">\\n        <form name=\"contact\" method=\"post\" action=\"/profile/signup\"><input type=\"hidden\" name=\"csrfmiddlewaretoken\" value=\"OggMI7b19RlPwuYuHA1hhxxwhBDLRxQElIJweoueYznNsHDtWtvJd6SU0f4h7Gez\">\\n\\n          <div class=\"form-group\">\\n            <label for=\"uname\">Username</label>\\n            <input type=\"text\" class=\"form-control\" id=\"uname\" placeholder=\"Enter your Name\" name=\"uname\">\\n            <small id=\"unamehelp\" class=\"form-text text-muted px-1\">\\n              Your unique username must be less than 10 characters (only lowecase letters, numbers & underscores\\n              allowed) with no spaces\\n            </small>\\n          </div>\\n          <div class=\"form-group\">\\n            <label for=\"name\">First Name</label>\\n            <input type=\"text\" class=\"form-control\" id=\"fname\" placeholder=\"Enter your First Name\" name=\"fname\">\\n          </div>\\n          <div class=\"form-group\">\\n            <label for=\"name\">Last Name</label>\\n            <input type=\"text\" class=\"form-control\" id=\"lname\" placeholder=\"Enter your Last Name\" name=\"lname\">\\n          </div>\\n\\n          <div class=\"form-group\">\\n            <label for=\"email\">Your Email</label>\\n            <div class=\"mx-0\">\\n              <div class=\"col-md-8 px-0\">\\n                <input type=\"email\" class=\"form-control\" id=\"email\" placeholder=\"Enter your Email\" name=\"email\">\\n                <small id=\"otpMessage\" class=\"form-text\"></small>\\n              </div>\\n              <div class=\"col-md-4 my-1 px-0\">\\n                <button class=\"btn btn-danger btn-sm mt-2\" id=\"otpbtn\">Send OTP</button>\\n              </div>\\n            </div>\\n\\n          </div>\\n          <div class=\"form-group\">\\n            <label for=\"otp\">Enter OTP</label>\\n            <input type=\"text\" class=\"form-control\" id=\"otp\" placeholder=\"Enter OTP\" name=\"otp\">\\n          </div>\\n\\n          <div class=\"form-group\">\\n            <label for=\"password\">Choose a password</label>\\n            <input type=\"password\" class=\"form-control\" id=\"password\" placeholder=\"Choose a password\" name=\"password\">\\n          </div>\\n          <div class=\"form-group\">\\n            <label for=\"password2\">Retype a password</label>\\n            <input type=\"password\" class=\"form-control\" id=\"password2\" placeholder=\"Retype your password\"\\n              name=\"password2\">\\n          </div>\\n          <div class=\"g-recaptcha\" data-sitekey=\"6LdvcqwUAAAAACmPYNVoiJA7D84xLSQQt5g9p10m\"></div>\\n          <input type=\"hidden\" name=\"path\" value=\"/\">\\n          <button type=\"submit\" class=\"btn btn-danger mt-2\">SignUp</button>\\n        </form>\\n      </div>\\n\\n      <div class=\"modal-footer\">\\n        <button type=\"button\" class=\"btn btn-secondary\" data-dismiss=\"modal\">Close</button>\\n      </div>\\n    </div>\\n  </div>\\n</div>\\n  \\n  \\n<section class=\"jumbotron text-center\">\\n    <div class=\"container\">\\n        <img src=\"/static/home/img/photo.png\" alt=\"logo\" width=\"120\">\\n        <h1 class=\"jumbotron-heading\"><span id=\"typed\"></span></h1>\\n        <p class=\"lead text-muted\">Confused on which course to take? I have got you covered. Browse courses and find out\\n            the best course for you. Its free!<br>Code With Harry is my attempt to teach basics and those coding\\n            techniques to people in short time which took me ages to learn.</p>\\n        <p>\\n            <a href=\"/blog\" class=\"btn btn-danger my-2\">Browse Blog</a>\\n            <a href=\"/videos\" class=\"btn btn-success my-2\">Browse Video Tutorials</a>\\n            <a href=\"/contact\" class=\"btn btn-primary my-2\">Contact Me</a>\\n        </p>\\n    </div>\\n</section>\\n\\n<div class=\"container\">\\n    <div class=\"row\">\\n        <div class=\"card mx-auto my-2 p-2 align-items-center\" style=\"width: 18rem;\">\\n            <img src=\"/static/home/img/coding.jpg\" class=\"padded card-img-top\" alt=\"...\">\\n            <div class=\"card-body\">\\n                <h5 class=\"card-title text-center\">Free Video Courses</h5>\\n                <p class=\"card-text text-center\">Get your programming career started with these free video courses. Source code is\\n                    available with all the videos for your better experience</p>\\n                <a href=\"/videos\" class=\"btn btn-primary d-block\">Browse Video Courses</a>\\n            </div>\\n        </div>\\n\\n        <div class=\"card mx-auto my-2 p-2 align-items-center\" style=\"width: 18rem;\">\\n            <img src=\"/static/home/img/lambda.png\" class=\"padded card-img-top\" alt=\"...\">\\n            <div class=\"card-body\">\\n                <h5 class=\"card-title text-center\">Coding Articles</h5>\\n                <p class=\"card-text text-center\">Some of the latest coding information compiled as coding articles. Keep your\\n                    programming knowledge up to date with our coding articles.</p>\\n                <a href=\"/blog\" class=\"btn btn-primary d-block\">Go to Blog</a>\\n            </div>\\n        </div>\\n\\n        <div class=\"card mx-auto my-2 p-2 align-items-center\" style=\"width: 18rem;\">\\n            <img src=\"/static/home/img/python.png\" class=\"padded card-img-top\" alt=\"...\">\\n            <div class=\"card-body\">\\n                <h5 class=\"card-title text-center\">Contact Me</h5>\\n                <p class=\"card-text text-center\">Learn programming from our free courses. Examples are available with these\\n                    tutorials. You can contact me for any doubt and I will get back to you!</p>\\n                <a href=\"/contact\" class=\"btn btn-primary d-block\">Contact Me</a>\\n            </div>\\n        </div>\\n\\n    </div>\\n\\n</div>\\n\\n\\n\\n  <!-- FOOTER -->\\n  <footer class=\"container-fluid bg-dark my-0 py-3 text-light\">\\n    <p class=\"mb-0 text-center\">&copy; 2020-2021 CodeWithHarry.com</p>\\n    <p class=\"mb-0 text-center\">\\n      <a href=\"#\">Back to top |</a>\\n      <a href=\"#\">Privacy |</a>\\n      <a href=\"#\">Terms</a>\\n    </p>\\n\\n  </footer>\\n  <!-- Custom JavaScript -->\\n  <script src=\"https://apis.google.com/js/platform.js\" defer></script>\\n  <script src=\"https://www.google.com/recaptcha/api.js\" async defer></script>\\n\\n  <!-- jQuery first, then Popper.js, then Bootstrap JS -->\\n  <script src=\"https://code.jquery.com/jquery-3.3.1.slim.min.js\"\\n    integrity=\"sha384-q8i/X+965DzO0rT7abK41JStQIAqVgRVzpbzo5smXKp4YfRvH+8abtTE1Pi6jizo\"\\n    crossorigin=\"anonymous\"></script>\\n  <script src=\"https://cdnjs.cloudflare.com/ajax/libs/popper.js/1.14.7/umd/popper.min.js\"\\n    integrity=\"sha384-UO2eT0CpHqdSJQ6hJty5KVphtPhzWj9WO1clHTMGa3JDZwrnQq4sF86dIHNDz0W1\"\\n    crossorigin=\"anonymous\"></script>\\n  <script src=\"https://stackpath.bootstrapcdn.com/bootstrap/4.3.1/js/bootstrap.min.js\"\\n    integrity=\"sha384-JjSmVgyd0p3pXB1rRibZUAYoIIy6OrQ6VrjIEaFf/nJGzIxFDsf4x0xIM+B07jRM\"\\n    crossorigin=\"anonymous\"></script>\\n  <script src=\"https://kit.fontawesome.com/433888fe69.js\" crossorigin=\"anonymous\" defer></script>\\n  <script>\\n    function getCookie(name) {\\n      const value = `; ${document.cookie}`;\\n      const parts = value.split(`; ${name}=`);\\n      if (parts.length === 2) return parts.pop().split(\\';\\').shift();\\n    }\\n    let otpbtn = document.getElementById(\\'otpbtn\\');\\n    if (otpbtn != undefined) {\\n      otpbtn.addEventListener(\\'click\\', (e) => {\\n        otpbtn.innerText = \\'Sending...\\';\\n        e.preventDefault();\\n        if (!otpbtn.classList.contains(\\'disabled\\')) {\\n          otpbtn.classList.add(\\'disabled\\');\\n          otpbtn.disabled = true;\\n          csrf_token = getCookie(\\'csrftoken\\');\\n          let formData = new FormData();\\n          formData.append(\\'email\\', document.getElementById(\\'email\\').value);\\n          formData.append(\\'csrfmiddlewaretoken\\', csrf_token);\\n          fetch(\\'/utils/sendotp\\', {\\n            method: \\'POST\\',\\n            body: formData\\n          })\\n            .then(response => response.text())\\n            .then(data => {\\n              console.log(data);\\n              if (data.startsWith(\"Error\")) {\\n                otpMessage.classList.add(\\'text-danger\\');\\n                otpbtn.innerText = \\'Error\\';\\n              }\\n              else {\\n                otpMessage.classList.add(\\'text-success\\');\\n                otpbtn.innerText = \\'OTP Sent\\';\\n              }\\n              otpMessage.innerText = data;\\n            })\\n            .catch(error => {\\n              console.error(error)\\n            })\\n        }\\n        else {\\n          // Otp has already been sent\\n        }\\n\\n      });\\n    }\\n  </script>\\n  \\n<script src=\"https://cdnjs.cloudflare.com/ajax/libs/typed.js/2.0.9/typed.min.js\" async defer></script>\\n<script>\\n    window.onload = function () {\\n        console.log(\"loaded\")\\n        var typed = new Typed(\\'#typed\\', {\\n            strings: [\"Welcome to CodeWithHarry\", \"Learn Python\", \"Web development\", \"Data Science\", \"Machine Learning\", \"and other awesome programming concepts with me :)\"],\\n            backSpeed: 15,\\n            smartBackspace: true,\\n            backDelay: 1200,\\n            startDelay: 1000,\\n            typeSpeed: 25,\\n            loop: true,\\n        });\\n    };\\n</script>\\n\\n</body>\\n\\n</html>'\n"
          ],
          "name": "stdout"
        }
      ]
    },
    {
      "cell_type": "markdown",
      "metadata": {
        "id": "z9zCGxmdF_1P"
      },
      "source": [
        "web scarping: firstly we should know that  the user request the server that we want that page means user request to the server then user give an index.html file then our browser prteiffy it but in web scraping we take pull request that is in url form by using request method we can do this without giving back to browser we can directly access the code and use for know bnefit  "
      ]
    },
    {
      "cell_type": "code",
      "metadata": {
        "colab": {
          "base_uri": "https://localhost:8080/"
        },
        "id": "fCf7LZ2GKP9w",
        "outputId": "111c8748-2aac-4b91-801f-551367eabc6c"
      },
      "source": [
        "soup=BeautifulSoup(htmlContent,'html.parser')\n",
        "print(soup)"
      ],
      "execution_count": null,
      "outputs": [
        {
          "output_type": "stream",
          "text": [
            "<!DOCTYPE doctype html>\n",
            "\n",
            "<html lang=\"en\">\n",
            "<head>\n",
            "<!-- Required meta tags -->\n",
            "<meta charset=\"utf-8\"/>\n",
            "<meta content=\"width=device-width, initial-scale=1, shrink-to-fit=no\" name=\"viewport\"/>\n",
            "<meta content=\"Code With Harry is my attempt to teach basics and those coding techniques to people in short time which took me ages to learn. At Code With Harry, I provide a quick and to the point demo along with resources of anything and everything I teach. Source code and other resources are hosted on my website CodeWithHarry.com. I provide source code(if any) in the description of every video.\n",
            "\" name=\"description\"/>\n",
            "<title>Free Programming Videos, Courses &amp; More In Hindi - Code With Harry</title>\n",
            "<!-- Bootstrap CSS -->\n",
            "<link crossorigin=\"anonymous\" href=\"https://stackpath.bootstrapcdn.com/bootstrap/4.3.1/css/bootstrap.min.css\" integrity=\"sha384-ggOyR0iXCbMQv3Xipma34MD+dH/1fQ784/j6cY/iJTQUOhcWr7x9JvoRxT2MZw1T\" rel=\"stylesheet\"/>\n",
            "<link href=\"/static/home/css/index.css\" rel=\"stylesheet\"/>\n",
            "<link href=\"/static/home/css/navbar.css\" rel=\"stylesheet\"/>\n",
            "<link href=\"/static/home/img/favicon.png\" rel=\"icon\" type=\"image/png\"/>\n",
            "<!-- Global site tag (gtag.js) - Google Analytics -->\n",
            "<script async=\"\" src=\"https://www.googletagmanager.com/gtag/js?id=UA-60726752-3\"></script>\n",
            "<script>\n",
            "    window.dataLayer = window.dataLayer || [];\n",
            "    function gtag() { dataLayer.push(arguments); }\n",
            "    gtag('js', new Date());\n",
            "    gtag('config', 'UA-60726752-3');\n",
            "  </script>\n",
            "<!-- Google Ads Auto -->\n",
            "<script async=\"\" src=\"//pagead2.googlesyndication.com/pagead/js/adsbygoogle.js\"></script>\n",
            "<script>\n",
            "    (adsbygoogle = window.adsbygoogle || []).push({\n",
            "      google_ad_client: \"ca-pub-9655830461045889\",\n",
            "      enable_page_level_ads: true\n",
            "    });\n",
            "  </script>\n",
            "</head>\n",
            "<body>\n",
            "<nav class=\"navbar navbar-expand-lg navbar-dark bg-dark\">\n",
            "<a class=\"navbar-brand\" href=\"/\"><img alt=\"My image\" class=\"brandLogo\" src=\"/static/home/img/photo.png\"/></a>\n",
            "<button aria-controls=\"navbarSupportedContent\" aria-expanded=\"false\" aria-label=\"Toggle navigation\" class=\"navbar-toggler\" data-target=\"#navbarSupportedContent\" data-toggle=\"collapse\" type=\"button\">\n",
            "<span class=\"navbar-toggler-icon\"></span>\n",
            "</button>\n",
            "<div class=\"collapse navbar-collapse\" id=\"navbarSupportedContent\">\n",
            "<ul class=\"navbar-nav mr-auto\">\n",
            "<li class=\"nav-item font-weight-bold\">\n",
            "<a class=\"nav-link\" href=\"/\">Home</a>\n",
            "</li>\n",
            "<li class=\"nav-item font-weight-bold\">\n",
            "<a class=\"nav-link\" href=\"/videos\">Videos</a>\n",
            "</li>\n",
            "<li class=\"nav-item font-weight-bold\">\n",
            "<a class=\"nav-link\" href=\"/blog\">Blog</a>\n",
            "</li>\n",
            "<li class=\"nav-item font-weight-bold\">\n",
            "<a class=\"nav-link\" href=\"/contact\">Contact Me</a>\n",
            "</li>\n",
            "</ul>\n",
            "<form action=\"/search/\" class=\"form-inline my-2 my-lg-0 mr-3\" method=\"get\">\n",
            "<input aria-label=\"Search\" class=\"form-control mr-sm-2\" name=\"query\" placeholder=\"Search\" type=\"search\"/>\n",
            "<button class=\"btn btn-danger my-2 my-sm-0\" type=\"submit\">Search</button>\n",
            "</form>\n",
            "<div>\n",
            "<button class=\"btn btn-danger\" data-target=\"#loginModal\" data-toggle=\"modal\" type=\"button\">Login</button>\n",
            "<button class=\"btn btn-danger\" data-target=\"#signupModal\" data-toggle=\"modal\" type=\"button\">SignUp</button>\n",
            "</div>\n",
            "</div>\n",
            "</nav>\n",
            "<!-- Login Modal -->\n",
            "<div aria-hidden=\"true\" aria-labelledby=\"loginModal\" class=\"modal fade\" id=\"loginModal\" role=\"dialog\" tabindex=\"-1\">\n",
            "<div class=\"modal-dialog\" role=\"document\">\n",
            "<div class=\"modal-content\">\n",
            "<div class=\"modal-header\">\n",
            "<h5 class=\"modal-title\" id=\"loginModal\">Login using your credentials</h5>\n",
            "<button aria-label=\"Close\" class=\"close\" data-dismiss=\"modal\" type=\"button\">\n",
            "<span aria-hidden=\"true\">×</span>\n",
            "</button>\n",
            "</div>\n",
            "<div class=\"modal-body\">\n",
            "<form action=\"/profile/login\" method=\"post\"><input name=\"csrfmiddlewaretoken\" type=\"hidden\" value=\"ibLZXPgxsPrhkEp92lbO1FJbRbWodSOHtx6iUlDLYdHe0CcW98AVVwaMYLrkwalG\"/>\n",
            "<div class=\"form-group\">\n",
            "<label for=\"lusername\">Username</label>\n",
            "<input class=\"form-control\" id=\"luname\" name=\"uname\" placeholder=\"Enter your username\" type=\"name\"/>\n",
            "</div>\n",
            "<div class=\"form-group\">\n",
            "<label for=\"password\">Password</label>\n",
            "<input class=\"form-control\" id=\"lpassword\" name=\"password\" placeholder=\"Enter your password\" type=\"password\"/>\n",
            "</div>\n",
            "<div class=\"g-recaptcha\" data-sitekey=\"6LdvcqwUAAAAACmPYNVoiJA7D84xLSQQt5g9p10m\"></div>\n",
            "<input name=\"path\" type=\"hidden\" value=\"/\"/>\n",
            "<button class=\"btn btn-danger mt-2\" id=\"loginsubmit\" type=\"submit\">Login</button>\n",
            "</form>\n",
            "</div>\n",
            "<div class=\"modal-footer\">\n",
            "<button class=\"btn btn-secondary\" data-dismiss=\"modal\" type=\"button\">Close</button>\n",
            "</div>\n",
            "</div>\n",
            "</div>\n",
            "</div>\n",
            "<!-- SignUp Modal -->\n",
            "<div aria-hidden=\"true\" aria-labelledby=\"signupModal\" class=\"modal fade\" id=\"signupModal\" role=\"dialog\" tabindex=\"-1\">\n",
            "<div class=\"modal-dialog\" role=\"document\">\n",
            "<div class=\"modal-content\">\n",
            "<div class=\"modal-header\">\n",
            "<h5 class=\"modal-title\" id=\"signupModal\">SignUp for an account</h5>\n",
            "<button aria-label=\"Close\" class=\"close\" data-dismiss=\"modal\" type=\"button\">\n",
            "<span aria-hidden=\"true\">×</span>\n",
            "</button>\n",
            "</div>\n",
            "<div class=\"modal-body\">\n",
            "<form action=\"/profile/signup\" method=\"post\" name=\"contact\"><input name=\"csrfmiddlewaretoken\" type=\"hidden\" value=\"ibLZXPgxsPrhkEp92lbO1FJbRbWodSOHtx6iUlDLYdHe0CcW98AVVwaMYLrkwalG\"/>\n",
            "<div class=\"form-group\">\n",
            "<label for=\"uname\">Username</label>\n",
            "<input class=\"form-control\" id=\"uname\" name=\"uname\" placeholder=\"Enter your Name\" type=\"text\"/>\n",
            "<small class=\"form-text text-muted px-1\" id=\"unamehelp\">\n",
            "              Your unique username must be less than 10 characters (only lowecase letters, numbers &amp; underscores\n",
            "              allowed) with no spaces\n",
            "            </small>\n",
            "</div>\n",
            "<div class=\"form-group\">\n",
            "<label for=\"name\">First Name</label>\n",
            "<input class=\"form-control\" id=\"fname\" name=\"fname\" placeholder=\"Enter your First Name\" type=\"text\"/>\n",
            "</div>\n",
            "<div class=\"form-group\">\n",
            "<label for=\"name\">Last Name</label>\n",
            "<input class=\"form-control\" id=\"lname\" name=\"lname\" placeholder=\"Enter your Last Name\" type=\"text\"/>\n",
            "</div>\n",
            "<div class=\"form-group\">\n",
            "<label for=\"email\">Your Email</label>\n",
            "<div class=\"mx-0\">\n",
            "<div class=\"col-md-8 px-0\">\n",
            "<input class=\"form-control\" id=\"email\" name=\"email\" placeholder=\"Enter your Email\" type=\"email\"/>\n",
            "<small class=\"form-text\" id=\"otpMessage\"></small>\n",
            "</div>\n",
            "<div class=\"col-md-4 my-1 px-0\">\n",
            "<button class=\"btn btn-danger btn-sm mt-2\" id=\"otpbtn\">Send OTP</button>\n",
            "</div>\n",
            "</div>\n",
            "</div>\n",
            "<div class=\"form-group\">\n",
            "<label for=\"otp\">Enter OTP</label>\n",
            "<input class=\"form-control\" id=\"otp\" name=\"otp\" placeholder=\"Enter OTP\" type=\"text\"/>\n",
            "</div>\n",
            "<div class=\"form-group\">\n",
            "<label for=\"password\">Choose a password</label>\n",
            "<input class=\"form-control\" id=\"password\" name=\"password\" placeholder=\"Choose a password\" type=\"password\"/>\n",
            "</div>\n",
            "<div class=\"form-group\">\n",
            "<label for=\"password2\">Retype a password</label>\n",
            "<input class=\"form-control\" id=\"password2\" name=\"password2\" placeholder=\"Retype your password\" type=\"password\"/>\n",
            "</div>\n",
            "<div class=\"g-recaptcha\" data-sitekey=\"6LdvcqwUAAAAACmPYNVoiJA7D84xLSQQt5g9p10m\"></div>\n",
            "<input name=\"path\" type=\"hidden\" value=\"/\"/>\n",
            "<button class=\"btn btn-danger mt-2\" type=\"submit\">SignUp</button>\n",
            "</form>\n",
            "</div>\n",
            "<div class=\"modal-footer\">\n",
            "<button class=\"btn btn-secondary\" data-dismiss=\"modal\" type=\"button\">Close</button>\n",
            "</div>\n",
            "</div>\n",
            "</div>\n",
            "</div>\n",
            "<section class=\"jumbotron text-center\">\n",
            "<div class=\"container\">\n",
            "<img alt=\"logo\" src=\"/static/home/img/photo.png\" width=\"120\"/>\n",
            "<h1 class=\"jumbotron-heading\"><span id=\"typed\"></span></h1>\n",
            "<p class=\"lead text-muted\">Confused on which course to take? I have got you covered. Browse courses and find out\n",
            "            the best course for you. Its free!<br/>Code With Harry is my attempt to teach basics and those coding\n",
            "            techniques to people in short time which took me ages to learn.</p>\n",
            "<p>\n",
            "<a class=\"btn btn-danger my-2\" href=\"/blog\">Browse Blog</a>\n",
            "<a class=\"btn btn-success my-2\" href=\"/videos\">Browse Video Tutorials</a>\n",
            "<a class=\"btn btn-primary my-2\" href=\"/contact\">Contact Me</a>\n",
            "</p>\n",
            "</div>\n",
            "</section>\n",
            "<div class=\"container\">\n",
            "<div class=\"row\">\n",
            "<div class=\"card mx-auto my-2 p-2 align-items-center\" style=\"width: 18rem;\">\n",
            "<img alt=\"...\" class=\"padded card-img-top\" src=\"/static/home/img/coding.jpg\"/>\n",
            "<div class=\"card-body\">\n",
            "<h5 class=\"card-title text-center\">Free Video Courses</h5>\n",
            "<p class=\"card-text text-center\">Get your programming career started with these free video courses. Source code is\n",
            "                    available with all the videos for your better experience</p>\n",
            "<a class=\"btn btn-primary d-block\" href=\"/videos\">Browse Video Courses</a>\n",
            "</div>\n",
            "</div>\n",
            "<div class=\"card mx-auto my-2 p-2 align-items-center\" style=\"width: 18rem;\">\n",
            "<img alt=\"...\" class=\"padded card-img-top\" src=\"/static/home/img/lambda.png\"/>\n",
            "<div class=\"card-body\">\n",
            "<h5 class=\"card-title text-center\">Coding Articles</h5>\n",
            "<p class=\"card-text text-center\">Some of the latest coding information compiled as coding articles. Keep your\n",
            "                    programming knowledge up to date with our coding articles.</p>\n",
            "<a class=\"btn btn-primary d-block\" href=\"/blog\">Go to Blog</a>\n",
            "</div>\n",
            "</div>\n",
            "<div class=\"card mx-auto my-2 p-2 align-items-center\" style=\"width: 18rem;\">\n",
            "<img alt=\"...\" class=\"padded card-img-top\" src=\"/static/home/img/python.png\"/>\n",
            "<div class=\"card-body\">\n",
            "<h5 class=\"card-title text-center\">Contact Me</h5>\n",
            "<p class=\"card-text text-center\">Learn programming from our free courses. Examples are available with these\n",
            "                    tutorials. You can contact me for any doubt and I will get back to you!</p>\n",
            "<a class=\"btn btn-primary d-block\" href=\"/contact\">Contact Me</a>\n",
            "</div>\n",
            "</div>\n",
            "</div>\n",
            "</div>\n",
            "<!-- FOOTER -->\n",
            "<footer class=\"container-fluid bg-dark my-0 py-3 text-light\">\n",
            "<p class=\"mb-0 text-center\">© 2020-2021 CodeWithHarry.com</p>\n",
            "<p class=\"mb-0 text-center\">\n",
            "<a href=\"#\">Back to top |</a>\n",
            "<a href=\"#\">Privacy |</a>\n",
            "<a href=\"#\">Terms</a>\n",
            "</p>\n",
            "</footer>\n",
            "<!-- Custom JavaScript -->\n",
            "<script defer=\"\" src=\"https://apis.google.com/js/platform.js\"></script>\n",
            "<script async=\"\" defer=\"\" src=\"https://www.google.com/recaptcha/api.js\"></script>\n",
            "<!-- jQuery first, then Popper.js, then Bootstrap JS -->\n",
            "<script crossorigin=\"anonymous\" integrity=\"sha384-q8i/X+965DzO0rT7abK41JStQIAqVgRVzpbzo5smXKp4YfRvH+8abtTE1Pi6jizo\" src=\"https://code.jquery.com/jquery-3.3.1.slim.min.js\"></script>\n",
            "<script crossorigin=\"anonymous\" integrity=\"sha384-UO2eT0CpHqdSJQ6hJty5KVphtPhzWj9WO1clHTMGa3JDZwrnQq4sF86dIHNDz0W1\" src=\"https://cdnjs.cloudflare.com/ajax/libs/popper.js/1.14.7/umd/popper.min.js\"></script>\n",
            "<script crossorigin=\"anonymous\" integrity=\"sha384-JjSmVgyd0p3pXB1rRibZUAYoIIy6OrQ6VrjIEaFf/nJGzIxFDsf4x0xIM+B07jRM\" src=\"https://stackpath.bootstrapcdn.com/bootstrap/4.3.1/js/bootstrap.min.js\"></script>\n",
            "<script crossorigin=\"anonymous\" defer=\"\" src=\"https://kit.fontawesome.com/433888fe69.js\"></script>\n",
            "<script>\n",
            "    function getCookie(name) {\n",
            "      const value = `; ${document.cookie}`;\n",
            "      const parts = value.split(`; ${name}=`);\n",
            "      if (parts.length === 2) return parts.pop().split(';').shift();\n",
            "    }\n",
            "    let otpbtn = document.getElementById('otpbtn');\n",
            "    if (otpbtn != undefined) {\n",
            "      otpbtn.addEventListener('click', (e) => {\n",
            "        otpbtn.innerText = 'Sending...';\n",
            "        e.preventDefault();\n",
            "        if (!otpbtn.classList.contains('disabled')) {\n",
            "          otpbtn.classList.add('disabled');\n",
            "          otpbtn.disabled = true;\n",
            "          csrf_token = getCookie('csrftoken');\n",
            "          let formData = new FormData();\n",
            "          formData.append('email', document.getElementById('email').value);\n",
            "          formData.append('csrfmiddlewaretoken', csrf_token);\n",
            "          fetch('/utils/sendotp', {\n",
            "            method: 'POST',\n",
            "            body: formData\n",
            "          })\n",
            "            .then(response => response.text())\n",
            "            .then(data => {\n",
            "              console.log(data);\n",
            "              if (data.startsWith(\"Error\")) {\n",
            "                otpMessage.classList.add('text-danger');\n",
            "                otpbtn.innerText = 'Error';\n",
            "              }\n",
            "              else {\n",
            "                otpMessage.classList.add('text-success');\n",
            "                otpbtn.innerText = 'OTP Sent';\n",
            "              }\n",
            "              otpMessage.innerText = data;\n",
            "            })\n",
            "            .catch(error => {\n",
            "              console.error(error)\n",
            "            })\n",
            "        }\n",
            "        else {\n",
            "          // Otp has already been sent\n",
            "        }\n",
            "\n",
            "      });\n",
            "    }\n",
            "  </script>\n",
            "<script async=\"\" defer=\"\" src=\"https://cdnjs.cloudflare.com/ajax/libs/typed.js/2.0.9/typed.min.js\"></script>\n",
            "<script>\n",
            "    window.onload = function () {\n",
            "        console.log(\"loaded\")\n",
            "        var typed = new Typed('#typed', {\n",
            "            strings: [\"Welcome to CodeWithHarry\", \"Learn Python\", \"Web development\", \"Data Science\", \"Machine Learning\", \"and other awesome programming concepts with me :)\"],\n",
            "            backSpeed: 15,\n",
            "            smartBackspace: true,\n",
            "            backDelay: 1200,\n",
            "            startDelay: 1000,\n",
            "            typeSpeed: 25,\n",
            "            loop: true,\n",
            "        });\n",
            "    };\n",
            "</script>\n",
            "</body>\n",
            "</html>\n"
          ],
          "name": "stdout"
        }
      ]
    },
    {
      "cell_type": "markdown",
      "metadata": {
        "id": "cUiqB_ydHo3C"
      },
      "source": [
        "we can use prettify method to indent the whole html\r\n",
        " "
      ]
    },
    {
      "cell_type": "code",
      "metadata": {
        "colab": {
          "base_uri": "https://localhost:8080/"
        },
        "id": "VnS9E3lSKgOV",
        "outputId": "3c985266-d766-41cb-fd84-f5f1bf41c22c"
      },
      "source": [
        "soup=BeautifulSoup(htmlContent,'html.parser')\n",
        "print(soup.prettify)"
      ],
      "execution_count": null,
      "outputs": [
        {
          "output_type": "stream",
          "text": [
            "<bound method Tag.prettify of <!DOCTYPE doctype html>\n",
            "\n",
            "<html lang=\"en\">\n",
            "<head>\n",
            "<!-- Required meta tags -->\n",
            "<meta charset=\"utf-8\"/>\n",
            "<meta content=\"width=device-width, initial-scale=1, shrink-to-fit=no\" name=\"viewport\"/>\n",
            "<meta content=\"Code With Harry is my attempt to teach basics and those coding techniques to people in short time which took me ages to learn. At Code With Harry, I provide a quick and to the point demo along with resources of anything and everything I teach. Source code and other resources are hosted on my website CodeWithHarry.com. I provide source code(if any) in the description of every video.\n",
            "\" name=\"description\"/>\n",
            "<title>Free Programming Videos, Courses &amp; More In Hindi - Code With Harry</title>\n",
            "<!-- Bootstrap CSS -->\n",
            "<link crossorigin=\"anonymous\" href=\"https://stackpath.bootstrapcdn.com/bootstrap/4.3.1/css/bootstrap.min.css\" integrity=\"sha384-ggOyR0iXCbMQv3Xipma34MD+dH/1fQ784/j6cY/iJTQUOhcWr7x9JvoRxT2MZw1T\" rel=\"stylesheet\"/>\n",
            "<link href=\"/static/home/css/index.css\" rel=\"stylesheet\"/>\n",
            "<link href=\"/static/home/css/navbar.css\" rel=\"stylesheet\"/>\n",
            "<link href=\"/static/home/img/favicon.png\" rel=\"icon\" type=\"image/png\"/>\n",
            "<!-- Global site tag (gtag.js) - Google Analytics -->\n",
            "<script async=\"\" src=\"https://www.googletagmanager.com/gtag/js?id=UA-60726752-3\"></script>\n",
            "<script>\n",
            "    window.dataLayer = window.dataLayer || [];\n",
            "    function gtag() { dataLayer.push(arguments); }\n",
            "    gtag('js', new Date());\n",
            "    gtag('config', 'UA-60726752-3');\n",
            "  </script>\n",
            "<!-- Google Ads Auto -->\n",
            "<script async=\"\" src=\"//pagead2.googlesyndication.com/pagead/js/adsbygoogle.js\"></script>\n",
            "<script>\n",
            "    (adsbygoogle = window.adsbygoogle || []).push({\n",
            "      google_ad_client: \"ca-pub-9655830461045889\",\n",
            "      enable_page_level_ads: true\n",
            "    });\n",
            "  </script>\n",
            "</head>\n",
            "<body>\n",
            "<nav class=\"navbar navbar-expand-lg navbar-dark bg-dark\">\n",
            "<a class=\"navbar-brand\" href=\"/\"><img alt=\"My image\" class=\"brandLogo\" src=\"/static/home/img/photo.png\"/></a>\n",
            "<button aria-controls=\"navbarSupportedContent\" aria-expanded=\"false\" aria-label=\"Toggle navigation\" class=\"navbar-toggler\" data-target=\"#navbarSupportedContent\" data-toggle=\"collapse\" type=\"button\">\n",
            "<span class=\"navbar-toggler-icon\"></span>\n",
            "</button>\n",
            "<div class=\"collapse navbar-collapse\" id=\"navbarSupportedContent\">\n",
            "<ul class=\"navbar-nav mr-auto\">\n",
            "<li class=\"nav-item font-weight-bold\">\n",
            "<a class=\"nav-link\" href=\"/\">Home</a>\n",
            "</li>\n",
            "<li class=\"nav-item font-weight-bold\">\n",
            "<a class=\"nav-link\" href=\"/videos\">Videos</a>\n",
            "</li>\n",
            "<li class=\"nav-item font-weight-bold\">\n",
            "<a class=\"nav-link\" href=\"/blog\">Blog</a>\n",
            "</li>\n",
            "<li class=\"nav-item font-weight-bold\">\n",
            "<a class=\"nav-link\" href=\"/contact\">Contact Me</a>\n",
            "</li>\n",
            "</ul>\n",
            "<form action=\"/search/\" class=\"form-inline my-2 my-lg-0 mr-3\" method=\"get\">\n",
            "<input aria-label=\"Search\" class=\"form-control mr-sm-2\" name=\"query\" placeholder=\"Search\" type=\"search\"/>\n",
            "<button class=\"btn btn-danger my-2 my-sm-0\" type=\"submit\">Search</button>\n",
            "</form>\n",
            "<div>\n",
            "<button class=\"btn btn-danger\" data-target=\"#loginModal\" data-toggle=\"modal\" type=\"button\">Login</button>\n",
            "<button class=\"btn btn-danger\" data-target=\"#signupModal\" data-toggle=\"modal\" type=\"button\">SignUp</button>\n",
            "</div>\n",
            "</div>\n",
            "</nav>\n",
            "<!-- Login Modal -->\n",
            "<div aria-hidden=\"true\" aria-labelledby=\"loginModal\" class=\"modal fade\" id=\"loginModal\" role=\"dialog\" tabindex=\"-1\">\n",
            "<div class=\"modal-dialog\" role=\"document\">\n",
            "<div class=\"modal-content\">\n",
            "<div class=\"modal-header\">\n",
            "<h5 class=\"modal-title\" id=\"loginModal\">Login using your credentials</h5>\n",
            "<button aria-label=\"Close\" class=\"close\" data-dismiss=\"modal\" type=\"button\">\n",
            "<span aria-hidden=\"true\">×</span>\n",
            "</button>\n",
            "</div>\n",
            "<div class=\"modal-body\">\n",
            "<form action=\"/profile/login\" method=\"post\"><input name=\"csrfmiddlewaretoken\" type=\"hidden\" value=\"ibLZXPgxsPrhkEp92lbO1FJbRbWodSOHtx6iUlDLYdHe0CcW98AVVwaMYLrkwalG\"/>\n",
            "<div class=\"form-group\">\n",
            "<label for=\"lusername\">Username</label>\n",
            "<input class=\"form-control\" id=\"luname\" name=\"uname\" placeholder=\"Enter your username\" type=\"name\"/>\n",
            "</div>\n",
            "<div class=\"form-group\">\n",
            "<label for=\"password\">Password</label>\n",
            "<input class=\"form-control\" id=\"lpassword\" name=\"password\" placeholder=\"Enter your password\" type=\"password\"/>\n",
            "</div>\n",
            "<div class=\"g-recaptcha\" data-sitekey=\"6LdvcqwUAAAAACmPYNVoiJA7D84xLSQQt5g9p10m\"></div>\n",
            "<input name=\"path\" type=\"hidden\" value=\"/\"/>\n",
            "<button class=\"btn btn-danger mt-2\" id=\"loginsubmit\" type=\"submit\">Login</button>\n",
            "</form>\n",
            "</div>\n",
            "<div class=\"modal-footer\">\n",
            "<button class=\"btn btn-secondary\" data-dismiss=\"modal\" type=\"button\">Close</button>\n",
            "</div>\n",
            "</div>\n",
            "</div>\n",
            "</div>\n",
            "<!-- SignUp Modal -->\n",
            "<div aria-hidden=\"true\" aria-labelledby=\"signupModal\" class=\"modal fade\" id=\"signupModal\" role=\"dialog\" tabindex=\"-1\">\n",
            "<div class=\"modal-dialog\" role=\"document\">\n",
            "<div class=\"modal-content\">\n",
            "<div class=\"modal-header\">\n",
            "<h5 class=\"modal-title\" id=\"signupModal\">SignUp for an account</h5>\n",
            "<button aria-label=\"Close\" class=\"close\" data-dismiss=\"modal\" type=\"button\">\n",
            "<span aria-hidden=\"true\">×</span>\n",
            "</button>\n",
            "</div>\n",
            "<div class=\"modal-body\">\n",
            "<form action=\"/profile/signup\" method=\"post\" name=\"contact\"><input name=\"csrfmiddlewaretoken\" type=\"hidden\" value=\"ibLZXPgxsPrhkEp92lbO1FJbRbWodSOHtx6iUlDLYdHe0CcW98AVVwaMYLrkwalG\"/>\n",
            "<div class=\"form-group\">\n",
            "<label for=\"uname\">Username</label>\n",
            "<input class=\"form-control\" id=\"uname\" name=\"uname\" placeholder=\"Enter your Name\" type=\"text\"/>\n",
            "<small class=\"form-text text-muted px-1\" id=\"unamehelp\">\n",
            "              Your unique username must be less than 10 characters (only lowecase letters, numbers &amp; underscores\n",
            "              allowed) with no spaces\n",
            "            </small>\n",
            "</div>\n",
            "<div class=\"form-group\">\n",
            "<label for=\"name\">First Name</label>\n",
            "<input class=\"form-control\" id=\"fname\" name=\"fname\" placeholder=\"Enter your First Name\" type=\"text\"/>\n",
            "</div>\n",
            "<div class=\"form-group\">\n",
            "<label for=\"name\">Last Name</label>\n",
            "<input class=\"form-control\" id=\"lname\" name=\"lname\" placeholder=\"Enter your Last Name\" type=\"text\"/>\n",
            "</div>\n",
            "<div class=\"form-group\">\n",
            "<label for=\"email\">Your Email</label>\n",
            "<div class=\"mx-0\">\n",
            "<div class=\"col-md-8 px-0\">\n",
            "<input class=\"form-control\" id=\"email\" name=\"email\" placeholder=\"Enter your Email\" type=\"email\"/>\n",
            "<small class=\"form-text\" id=\"otpMessage\"></small>\n",
            "</div>\n",
            "<div class=\"col-md-4 my-1 px-0\">\n",
            "<button class=\"btn btn-danger btn-sm mt-2\" id=\"otpbtn\">Send OTP</button>\n",
            "</div>\n",
            "</div>\n",
            "</div>\n",
            "<div class=\"form-group\">\n",
            "<label for=\"otp\">Enter OTP</label>\n",
            "<input class=\"form-control\" id=\"otp\" name=\"otp\" placeholder=\"Enter OTP\" type=\"text\"/>\n",
            "</div>\n",
            "<div class=\"form-group\">\n",
            "<label for=\"password\">Choose a password</label>\n",
            "<input class=\"form-control\" id=\"password\" name=\"password\" placeholder=\"Choose a password\" type=\"password\"/>\n",
            "</div>\n",
            "<div class=\"form-group\">\n",
            "<label for=\"password2\">Retype a password</label>\n",
            "<input class=\"form-control\" id=\"password2\" name=\"password2\" placeholder=\"Retype your password\" type=\"password\"/>\n",
            "</div>\n",
            "<div class=\"g-recaptcha\" data-sitekey=\"6LdvcqwUAAAAACmPYNVoiJA7D84xLSQQt5g9p10m\"></div>\n",
            "<input name=\"path\" type=\"hidden\" value=\"/\"/>\n",
            "<button class=\"btn btn-danger mt-2\" type=\"submit\">SignUp</button>\n",
            "</form>\n",
            "</div>\n",
            "<div class=\"modal-footer\">\n",
            "<button class=\"btn btn-secondary\" data-dismiss=\"modal\" type=\"button\">Close</button>\n",
            "</div>\n",
            "</div>\n",
            "</div>\n",
            "</div>\n",
            "<section class=\"jumbotron text-center\">\n",
            "<div class=\"container\">\n",
            "<img alt=\"logo\" src=\"/static/home/img/photo.png\" width=\"120\"/>\n",
            "<h1 class=\"jumbotron-heading\"><span id=\"typed\"></span></h1>\n",
            "<p class=\"lead text-muted\">Confused on which course to take? I have got you covered. Browse courses and find out\n",
            "            the best course for you. Its free!<br/>Code With Harry is my attempt to teach basics and those coding\n",
            "            techniques to people in short time which took me ages to learn.</p>\n",
            "<p>\n",
            "<a class=\"btn btn-danger my-2\" href=\"/blog\">Browse Blog</a>\n",
            "<a class=\"btn btn-success my-2\" href=\"/videos\">Browse Video Tutorials</a>\n",
            "<a class=\"btn btn-primary my-2\" href=\"/contact\">Contact Me</a>\n",
            "</p>\n",
            "</div>\n",
            "</section>\n",
            "<div class=\"container\">\n",
            "<div class=\"row\">\n",
            "<div class=\"card mx-auto my-2 p-2 align-items-center\" style=\"width: 18rem;\">\n",
            "<img alt=\"...\" class=\"padded card-img-top\" src=\"/static/home/img/coding.jpg\"/>\n",
            "<div class=\"card-body\">\n",
            "<h5 class=\"card-title text-center\">Free Video Courses</h5>\n",
            "<p class=\"card-text text-center\">Get your programming career started with these free video courses. Source code is\n",
            "                    available with all the videos for your better experience</p>\n",
            "<a class=\"btn btn-primary d-block\" href=\"/videos\">Browse Video Courses</a>\n",
            "</div>\n",
            "</div>\n",
            "<div class=\"card mx-auto my-2 p-2 align-items-center\" style=\"width: 18rem;\">\n",
            "<img alt=\"...\" class=\"padded card-img-top\" src=\"/static/home/img/lambda.png\"/>\n",
            "<div class=\"card-body\">\n",
            "<h5 class=\"card-title text-center\">Coding Articles</h5>\n",
            "<p class=\"card-text text-center\">Some of the latest coding information compiled as coding articles. Keep your\n",
            "                    programming knowledge up to date with our coding articles.</p>\n",
            "<a class=\"btn btn-primary d-block\" href=\"/blog\">Go to Blog</a>\n",
            "</div>\n",
            "</div>\n",
            "<div class=\"card mx-auto my-2 p-2 align-items-center\" style=\"width: 18rem;\">\n",
            "<img alt=\"...\" class=\"padded card-img-top\" src=\"/static/home/img/python.png\"/>\n",
            "<div class=\"card-body\">\n",
            "<h5 class=\"card-title text-center\">Contact Me</h5>\n",
            "<p class=\"card-text text-center\">Learn programming from our free courses. Examples are available with these\n",
            "                    tutorials. You can contact me for any doubt and I will get back to you!</p>\n",
            "<a class=\"btn btn-primary d-block\" href=\"/contact\">Contact Me</a>\n",
            "</div>\n",
            "</div>\n",
            "</div>\n",
            "</div>\n",
            "<!-- FOOTER -->\n",
            "<footer class=\"container-fluid bg-dark my-0 py-3 text-light\">\n",
            "<p class=\"mb-0 text-center\">© 2020-2021 CodeWithHarry.com</p>\n",
            "<p class=\"mb-0 text-center\">\n",
            "<a href=\"#\">Back to top |</a>\n",
            "<a href=\"#\">Privacy |</a>\n",
            "<a href=\"#\">Terms</a>\n",
            "</p>\n",
            "</footer>\n",
            "<!-- Custom JavaScript -->\n",
            "<script defer=\"\" src=\"https://apis.google.com/js/platform.js\"></script>\n",
            "<script async=\"\" defer=\"\" src=\"https://www.google.com/recaptcha/api.js\"></script>\n",
            "<!-- jQuery first, then Popper.js, then Bootstrap JS -->\n",
            "<script crossorigin=\"anonymous\" integrity=\"sha384-q8i/X+965DzO0rT7abK41JStQIAqVgRVzpbzo5smXKp4YfRvH+8abtTE1Pi6jizo\" src=\"https://code.jquery.com/jquery-3.3.1.slim.min.js\"></script>\n",
            "<script crossorigin=\"anonymous\" integrity=\"sha384-UO2eT0CpHqdSJQ6hJty5KVphtPhzWj9WO1clHTMGa3JDZwrnQq4sF86dIHNDz0W1\" src=\"https://cdnjs.cloudflare.com/ajax/libs/popper.js/1.14.7/umd/popper.min.js\"></script>\n",
            "<script crossorigin=\"anonymous\" integrity=\"sha384-JjSmVgyd0p3pXB1rRibZUAYoIIy6OrQ6VrjIEaFf/nJGzIxFDsf4x0xIM+B07jRM\" src=\"https://stackpath.bootstrapcdn.com/bootstrap/4.3.1/js/bootstrap.min.js\"></script>\n",
            "<script crossorigin=\"anonymous\" defer=\"\" src=\"https://kit.fontawesome.com/433888fe69.js\"></script>\n",
            "<script>\n",
            "    function getCookie(name) {\n",
            "      const value = `; ${document.cookie}`;\n",
            "      const parts = value.split(`; ${name}=`);\n",
            "      if (parts.length === 2) return parts.pop().split(';').shift();\n",
            "    }\n",
            "    let otpbtn = document.getElementById('otpbtn');\n",
            "    if (otpbtn != undefined) {\n",
            "      otpbtn.addEventListener('click', (e) => {\n",
            "        otpbtn.innerText = 'Sending...';\n",
            "        e.preventDefault();\n",
            "        if (!otpbtn.classList.contains('disabled')) {\n",
            "          otpbtn.classList.add('disabled');\n",
            "          otpbtn.disabled = true;\n",
            "          csrf_token = getCookie('csrftoken');\n",
            "          let formData = new FormData();\n",
            "          formData.append('email', document.getElementById('email').value);\n",
            "          formData.append('csrfmiddlewaretoken', csrf_token);\n",
            "          fetch('/utils/sendotp', {\n",
            "            method: 'POST',\n",
            "            body: formData\n",
            "          })\n",
            "            .then(response => response.text())\n",
            "            .then(data => {\n",
            "              console.log(data);\n",
            "              if (data.startsWith(\"Error\")) {\n",
            "                otpMessage.classList.add('text-danger');\n",
            "                otpbtn.innerText = 'Error';\n",
            "              }\n",
            "              else {\n",
            "                otpMessage.classList.add('text-success');\n",
            "                otpbtn.innerText = 'OTP Sent';\n",
            "              }\n",
            "              otpMessage.innerText = data;\n",
            "            })\n",
            "            .catch(error => {\n",
            "              console.error(error)\n",
            "            })\n",
            "        }\n",
            "        else {\n",
            "          // Otp has already been sent\n",
            "        }\n",
            "\n",
            "      });\n",
            "    }\n",
            "  </script>\n",
            "<script async=\"\" defer=\"\" src=\"https://cdnjs.cloudflare.com/ajax/libs/typed.js/2.0.9/typed.min.js\"></script>\n",
            "<script>\n",
            "    window.onload = function () {\n",
            "        console.log(\"loaded\")\n",
            "        var typed = new Typed('#typed', {\n",
            "            strings: [\"Welcome to CodeWithHarry\", \"Learn Python\", \"Web development\", \"Data Science\", \"Machine Learning\", \"and other awesome programming concepts with me :)\"],\n",
            "            backSpeed: 15,\n",
            "            smartBackspace: true,\n",
            "            backDelay: 1200,\n",
            "            startDelay: 1000,\n",
            "            typeSpeed: 25,\n",
            "            loop: true,\n",
            "        });\n",
            "    };\n",
            "</script>\n",
            "</body>\n",
            "</html>>\n"
          ],
          "name": "stdout"
        }
      ]
    },
    {
      "cell_type": "code",
      "metadata": {
        "colab": {
          "base_uri": "https://localhost:8080/"
        },
        "id": "5eLhAhuPKqoB",
        "outputId": "d3a60b45-d17b-4c71-8488-9ff15315e90a"
      },
      "source": [
        "title=soup.title\n",
        "print(title)"
      ],
      "execution_count": null,
      "outputs": [
        {
          "output_type": "stream",
          "text": [
            "<title>Free Programming Videos, Courses &amp; More In Hindi - Code With Harry</title>\n"
          ],
          "name": "stdout"
        }
      ]
    },
    {
      "cell_type": "markdown",
      "metadata": {
        "id": "mCi4nxWKH6HD"
      },
      "source": [
        "we can get the title"
      ]
    },
    {
      "cell_type": "code",
      "metadata": {
        "colab": {
          "base_uri": "https://localhost:8080/",
          "height": 162
        },
        "id": "iKzQ_rqSLMds",
        "outputId": "80f8478a-3873-44ea-fdad-bfe8e312bc9d"
      },
      "source": [
        "print(type(title))"
      ],
      "execution_count": null,
      "outputs": [
        {
          "output_type": "error",
          "ename": "NameError",
          "evalue": "ignored",
          "traceback": [
            "\u001b[0;31m---------------------------------------------------------------------------\u001b[0m",
            "\u001b[0;31mNameError\u001b[0m                                 Traceback (most recent call last)",
            "\u001b[0;32m<ipython-input-12-b164230e870d>\u001b[0m in \u001b[0;36m<module>\u001b[0;34m()\u001b[0m\n\u001b[0;32m----> 1\u001b[0;31m \u001b[0mprint\u001b[0m\u001b[0;34m(\u001b[0m\u001b[0mtype\u001b[0m\u001b[0;34m(\u001b[0m\u001b[0mtitle\u001b[0m\u001b[0;34m)\u001b[0m\u001b[0;34m)\u001b[0m\u001b[0;34m\u001b[0m\u001b[0;34m\u001b[0m\u001b[0m\n\u001b[0m",
            "\u001b[0;31mNameError\u001b[0m: name 'title' is not defined"
          ]
        }
      ]
    },
    {
      "cell_type": "code",
      "metadata": {
        "colab": {
          "base_uri": "https://localhost:8080/",
          "height": 162
        },
        "id": "hn0sykjqLP-W",
        "outputId": "c9786c24-5a96-4e9a-a4f7-9b808fd16867"
      },
      "source": [
        "print(type(title.string))"
      ],
      "execution_count": null,
      "outputs": [
        {
          "output_type": "error",
          "ename": "NameError",
          "evalue": "ignored",
          "traceback": [
            "\u001b[0;31m---------------------------------------------------------------------------\u001b[0m",
            "\u001b[0;31mNameError\u001b[0m                                 Traceback (most recent call last)",
            "\u001b[0;32m<ipython-input-13-5e7de95fcb59>\u001b[0m in \u001b[0;36m<module>\u001b[0;34m()\u001b[0m\n\u001b[0;32m----> 1\u001b[0;31m \u001b[0mprint\u001b[0m\u001b[0;34m(\u001b[0m\u001b[0mtype\u001b[0m\u001b[0;34m(\u001b[0m\u001b[0mtitle\u001b[0m\u001b[0;34m.\u001b[0m\u001b[0mstring\u001b[0m\u001b[0;34m)\u001b[0m\u001b[0;34m)\u001b[0m\u001b[0;34m\u001b[0m\u001b[0;34m\u001b[0m\u001b[0m\n\u001b[0m",
            "\u001b[0;31mNameError\u001b[0m: name 'title' is not defined"
          ]
        }
      ]
    },
    {
      "cell_type": "markdown",
      "metadata": {
        "id": "LCOblGtKLcTc"
      },
      "source": [
        "commanly used type of object\n",
        ". tag\n",
        ". NavigableString\n",
        ".BeautifulSoup\n",
        ". comment\n"
      ]
    },
    {
      "cell_type": "code",
      "metadata": {
        "colab": {
          "base_uri": "https://localhost:8080/"
        },
        "id": "E_8p89_fLrma",
        "outputId": "d26d5a45-17af-493d-b68d-e264c9a77a9b"
      },
      "source": [
        "print(type(soup))"
      ],
      "execution_count": null,
      "outputs": [
        {
          "output_type": "stream",
          "text": [
            "<class 'bs4.BeautifulSoup'>\n"
          ],
          "name": "stdout"
        }
      ]
    },
    {
      "cell_type": "code",
      "metadata": {
        "id": "d2MpebMsLx1_"
      },
      "source": [
        ""
      ],
      "execution_count": null,
      "outputs": []
    },
    {
      "cell_type": "markdown",
      "metadata": {
        "id": "ADaF23yZMLBn"
      },
      "source": [
        "get all the pargarph"
      ]
    },
    {
      "cell_type": "code",
      "metadata": {
        "colab": {
          "base_uri": "https://localhost:8080/"
        },
        "id": "oBi58KG1MNhj",
        "outputId": "775e45a6-b1c7-46a8-83b0-da3d0fe3529f"
      },
      "source": [
        "paras = soup.find_all('p')\n",
        "print(paras)"
      ],
      "execution_count": null,
      "outputs": [
        {
          "output_type": "stream",
          "text": [
            "[<p class=\"lead text-muted\">Confused on which course to take? I have got you covered. Browse courses and find out\n",
            "            the best course for you. Its free!<br/>Code With Harry is my attempt to teach basics and those coding\n",
            "            techniques to people in short time which took me ages to learn.</p>, <p>\n",
            "<a class=\"btn btn-danger my-2\" href=\"/blog\">Browse Blog</a>\n",
            "<a class=\"btn btn-success my-2\" href=\"/videos\">Browse Video Tutorials</a>\n",
            "<a class=\"btn btn-primary my-2\" href=\"/contact\">Contact Me</a>\n",
            "</p>, <p class=\"card-text text-center\">Get your programming career started with these free video courses. Source code is\n",
            "                    available with all the videos for your better experience</p>, <p class=\"card-text text-center\">Some of the latest coding information compiled as coding articles. Keep your\n",
            "                    programming knowledge up to date with our coding articles.</p>, <p class=\"card-text text-center\">Learn programming from our free courses. Examples are available with these\n",
            "                    tutorials. You can contact me for any doubt and I will get back to you!</p>, <p class=\"mb-0 text-center\">© 2020-2021 CodeWithHarry.com</p>, <p class=\"mb-0 text-center\">\n",
            "<a href=\"#\">Back to top |</a>\n",
            "<a href=\"#\">Privacy |</a>\n",
            "<a href=\"#\">Terms</a>\n",
            "</p>]\n"
          ],
          "name": "stdout"
        }
      ]
    },
    {
      "cell_type": "code",
      "metadata": {
        "colab": {
          "base_uri": "https://localhost:8080/"
        },
        "id": "RXNcjVdnMjj4",
        "outputId": "cde746d4-463d-4070-e9d7-8998654c3feb"
      },
      "source": [
        "anch=soup.find_all('a')\n",
        "print(anch)"
      ],
      "execution_count": null,
      "outputs": [
        {
          "output_type": "stream",
          "text": [
            "[<a class=\"navbar-brand\" href=\"/\"><img alt=\"My image\" class=\"brandLogo\" src=\"/static/home/img/photo.png\"/></a>, <a class=\"nav-link\" href=\"/\">Home</a>, <a class=\"nav-link\" href=\"/videos\">Videos</a>, <a class=\"nav-link\" href=\"/blog\">Blog</a>, <a class=\"nav-link\" href=\"/contact\">Contact Me</a>, <a class=\"btn btn-danger my-2\" href=\"/blog\">Browse Blog</a>, <a class=\"btn btn-success my-2\" href=\"/videos\">Browse Video Tutorials</a>, <a class=\"btn btn-primary my-2\" href=\"/contact\">Contact Me</a>, <a class=\"btn btn-primary d-block\" href=\"/videos\">Browse Video Courses</a>, <a class=\"btn btn-primary d-block\" href=\"/blog\">Go to Blog</a>, <a class=\"btn btn-primary d-block\" href=\"/contact\">Contact Me</a>, <a href=\"#\">Back to top |</a>, <a href=\"#\">Privacy |</a>, <a href=\"#\">Terms</a>]\n"
          ],
          "name": "stdout"
        }
      ]
    },
    {
      "cell_type": "code",
      "metadata": {
        "colab": {
          "base_uri": "https://localhost:8080/"
        },
        "id": "byYojDSIM0ye",
        "outputId": "2fc8e8e6-caa3-4edb-cddf-198aa91ebddb"
      },
      "source": [
        "g=soup.find_all('h1')\n",
        "print(g)"
      ],
      "execution_count": null,
      "outputs": [
        {
          "output_type": "stream",
          "text": [
            "[<h1 class=\"jumbotron-heading\"><span id=\"typed\"></span></h1>]\n"
          ],
          "name": "stdout"
        }
      ]
    },
    {
      "cell_type": "code",
      "metadata": {
        "colab": {
          "base_uri": "https://localhost:8080/"
        },
        "id": "K_vxLmZvMsRD",
        "outputId": "f9227da0-1b3c-46e0-9720-1beca0b4922b"
      },
      "source": [
        "print(soup.find('p'))"
      ],
      "execution_count": null,
      "outputs": [
        {
          "output_type": "stream",
          "text": [
            "<p class=\"lead text-muted\">Confused on which course to take? I have got you covered. Browse courses and find out\n",
            "            the best course for you. Its free!<br/>Code With Harry is my attempt to teach basics and those coding\n",
            "            techniques to people in short time which took me ages to learn.</p>\n"
          ],
          "name": "stdout"
        }
      ]
    },
    {
      "cell_type": "code",
      "metadata": {
        "colab": {
          "base_uri": "https://localhost:8080/"
        },
        "id": "lBoFNZDYNEdk",
        "outputId": "8d82c73c-e301-4b93-916f-04ed5284e88c"
      },
      "source": [
        "print(soup.find('p')['class'])"
      ],
      "execution_count": null,
      "outputs": [
        {
          "output_type": "stream",
          "text": [
            "['lead', 'text-muted']\n"
          ],
          "name": "stdout"
        }
      ]
    },
    {
      "cell_type": "markdown",
      "metadata": {
        "id": "uRPp8j-gIZ6l"
      },
      "source": [
        "in  first para thier is no id that's why we get the error."
      ]
    },
    {
      "cell_type": "code",
      "metadata": {
        "colab": {
          "base_uri": "https://localhost:8080/",
          "height": 279
        },
        "id": "c24gkVaBNQYb",
        "outputId": "4f84f976-a380-47af-99a3-64867fb59045"
      },
      "source": [
        "print(soup.find('p')['id'])"
      ],
      "execution_count": null,
      "outputs": [
        {
          "output_type": "error",
          "ename": "KeyError",
          "evalue": "ignored",
          "traceback": [
            "\u001b[0;31m---------------------------------------------------------------------------\u001b[0m",
            "\u001b[0;31mKeyError\u001b[0m                                  Traceback (most recent call last)",
            "\u001b[0;32m<ipython-input-19-d6a3824db39b>\u001b[0m in \u001b[0;36m<module>\u001b[0;34m()\u001b[0m\n\u001b[0;32m----> 1\u001b[0;31m \u001b[0mprint\u001b[0m\u001b[0;34m(\u001b[0m\u001b[0msoup\u001b[0m\u001b[0;34m.\u001b[0m\u001b[0mfind\u001b[0m\u001b[0;34m(\u001b[0m\u001b[0;34m'p'\u001b[0m\u001b[0;34m)\u001b[0m\u001b[0;34m[\u001b[0m\u001b[0;34m'id'\u001b[0m\u001b[0;34m]\u001b[0m\u001b[0;34m)\u001b[0m\u001b[0;34m\u001b[0m\u001b[0;34m\u001b[0m\u001b[0m\n\u001b[0m",
            "\u001b[0;32m/usr/local/lib/python3.6/dist-packages/bs4/element.py\u001b[0m in \u001b[0;36m__getitem__\u001b[0;34m(self, key)\u001b[0m\n\u001b[1;32m   1069\u001b[0m         \"\"\"tag[key] returns the value of the 'key' attribute for the tag,\n\u001b[1;32m   1070\u001b[0m         and throws an exception if it's not there.\"\"\"\n\u001b[0;32m-> 1071\u001b[0;31m         \u001b[0;32mreturn\u001b[0m \u001b[0mself\u001b[0m\u001b[0;34m.\u001b[0m\u001b[0mattrs\u001b[0m\u001b[0;34m[\u001b[0m\u001b[0mkey\u001b[0m\u001b[0;34m]\u001b[0m\u001b[0;34m\u001b[0m\u001b[0;34m\u001b[0m\u001b[0m\n\u001b[0m\u001b[1;32m   1072\u001b[0m \u001b[0;34m\u001b[0m\u001b[0m\n\u001b[1;32m   1073\u001b[0m     \u001b[0;32mdef\u001b[0m \u001b[0m__iter__\u001b[0m\u001b[0;34m(\u001b[0m\u001b[0mself\u001b[0m\u001b[0;34m)\u001b[0m\u001b[0;34m:\u001b[0m\u001b[0;34m\u001b[0m\u001b[0;34m\u001b[0m\u001b[0m\n",
            "\u001b[0;31mKeyError\u001b[0m: 'id'"
          ]
        }
      ]
    },
    {
      "cell_type": "code",
      "metadata": {
        "colab": {
          "base_uri": "https://localhost:8080/"
        },
        "id": "w7AwArMPNbkt",
        "outputId": "f050837b-8995-480e-e83c-19d76cdb3990"
      },
      "source": [
        "print(soup.find_all('p',class_=\"lead\"))"
      ],
      "execution_count": null,
      "outputs": [
        {
          "output_type": "stream",
          "text": [
            "[<p class=\"lead text-muted\">Confused on which course to take? I have got you covered. Browse courses and find out\n",
            "            the best course for you. Its free!<br/>Code With Harry is my attempt to teach basics and those coding\n",
            "            techniques to people in short time which took me ages to learn.</p>]\n"
          ],
          "name": "stdout"
        }
      ]
    },
    {
      "cell_type": "code",
      "metadata": {
        "colab": {
          "base_uri": "https://localhost:8080/"
        },
        "id": "9hMLlhopNskb",
        "outputId": "3fdbdbc9-5106-4366-b8f8-9acb1f626d69"
      },
      "source": [
        "print(soup.find('p').get_text())"
      ],
      "execution_count": null,
      "outputs": [
        {
          "output_type": "stream",
          "text": [
            "Confused on which course to take? I have got you covered. Browse courses and find out\n",
            "            the best course for you. Its free!Code With Harry is my attempt to teach basics and those coding\n",
            "            techniques to people in short time which took me ages to learn.\n"
          ],
          "name": "stdout"
        }
      ]
    },
    {
      "cell_type": "code",
      "metadata": {
        "colab": {
          "base_uri": "https://localhost:8080/"
        },
        "id": "8xG6yQm8N8pX",
        "outputId": "814ec1bd-4f8d-4c6a-8d9d-ce3bc15df74d"
      },
      "source": [
        "print(soup.get_text())"
      ],
      "execution_count": null,
      "outputs": [
        {
          "output_type": "stream",
          "text": [
            "\n",
            "\n",
            "\n",
            "\n",
            "\n",
            "\n",
            "\n",
            "Free Programming Videos, Courses & More In Hindi - Code With Harry\n",
            "\n",
            "\n",
            "\n",
            "\n",
            "\n",
            "\n",
            "\n",
            "\n",
            "    window.dataLayer = window.dataLayer || [];\n",
            "    function gtag() { dataLayer.push(arguments); }\n",
            "    gtag('js', new Date());\n",
            "    gtag('config', 'UA-60726752-3');\n",
            "  \n",
            "\n",
            "\n",
            "\n",
            "    (adsbygoogle = window.adsbygoogle || []).push({\n",
            "      google_ad_client: \"ca-pub-9655830461045889\",\n",
            "      enable_page_level_ads: true\n",
            "    });\n",
            "  \n",
            "\n",
            "\n",
            "\n",
            "\n",
            "\n",
            "\n",
            "\n",
            "\n",
            "\n",
            "\n",
            "Home\n",
            "\n",
            "\n",
            "Videos\n",
            "\n",
            "\n",
            "Blog\n",
            "\n",
            "\n",
            "Contact Me\n",
            "\n",
            "\n",
            "\n",
            "\n",
            "Search\n",
            "\n",
            "\n",
            "Login\n",
            "SignUp\n",
            "\n",
            "\n",
            "\n",
            "\n",
            "\n",
            "\n",
            "\n",
            "\n",
            "Login using your credentials\n",
            "\n",
            "×\n",
            "\n",
            "\n",
            "\n",
            "\n",
            "\n",
            "Username\n",
            "\n",
            "\n",
            "\n",
            "Password\n",
            "\n",
            "\n",
            "\n",
            "\n",
            "Login\n",
            "\n",
            "\n",
            "\n",
            "Close\n",
            "\n",
            "\n",
            "\n",
            "\n",
            "\n",
            "\n",
            "\n",
            "\n",
            "\n",
            "SignUp for an account\n",
            "\n",
            "×\n",
            "\n",
            "\n",
            "\n",
            "\n",
            "\n",
            "Username\n",
            "\n",
            "\n",
            "              Your unique username must be less than 10 characters (only lowecase letters, numbers & underscores\n",
            "              allowed) with no spaces\n",
            "            \n",
            "\n",
            "\n",
            "First Name\n",
            "\n",
            "\n",
            "\n",
            "Last Name\n",
            "\n",
            "\n",
            "\n",
            "Your Email\n",
            "\n",
            "\n",
            "\n",
            "\n",
            "\n",
            "\n",
            "Send OTP\n",
            "\n",
            "\n",
            "\n",
            "\n",
            "Enter OTP\n",
            "\n",
            "\n",
            "\n",
            "Choose a password\n",
            "\n",
            "\n",
            "\n",
            "Retype a password\n",
            "\n",
            "\n",
            "\n",
            "\n",
            "SignUp\n",
            "\n",
            "\n",
            "\n",
            "Close\n",
            "\n",
            "\n",
            "\n",
            "\n",
            "\n",
            "\n",
            "\n",
            "\n",
            "Confused on which course to take? I have got you covered. Browse courses and find out\n",
            "            the best course for you. Its free!Code With Harry is my attempt to teach basics and those coding\n",
            "            techniques to people in short time which took me ages to learn.\n",
            "\n",
            "Browse Blog\n",
            "Browse Video Tutorials\n",
            "Contact Me\n",
            "\n",
            "\n",
            "\n",
            "\n",
            "\n",
            "\n",
            "\n",
            "\n",
            "Free Video Courses\n",
            "Get your programming career started with these free video courses. Source code is\n",
            "                    available with all the videos for your better experience\n",
            "Browse Video Courses\n",
            "\n",
            "\n",
            "\n",
            "\n",
            "\n",
            "Coding Articles\n",
            "Some of the latest coding information compiled as coding articles. Keep your\n",
            "                    programming knowledge up to date with our coding articles.\n",
            "Go to Blog\n",
            "\n",
            "\n",
            "\n",
            "\n",
            "\n",
            "Contact Me\n",
            "Learn programming from our free courses. Examples are available with these\n",
            "                    tutorials. You can contact me for any doubt and I will get back to you!\n",
            "Contact Me\n",
            "\n",
            "\n",
            "\n",
            "\n",
            "\n",
            "\n",
            "© 2020-2021 CodeWithHarry.com\n",
            "\n",
            "Back to top |\n",
            "Privacy |\n",
            "Terms\n",
            "\n",
            "\n",
            "\n",
            "\n",
            "\n",
            "\n",
            "\n",
            "\n",
            "\n",
            "\n",
            "\n",
            "    function getCookie(name) {\n",
            "      const value = `; ${document.cookie}`;\n",
            "      const parts = value.split(`; ${name}=`);\n",
            "      if (parts.length === 2) return parts.pop().split(';').shift();\n",
            "    }\n",
            "    let otpbtn = document.getElementById('otpbtn');\n",
            "    if (otpbtn != undefined) {\n",
            "      otpbtn.addEventListener('click', (e) => {\n",
            "        otpbtn.innerText = 'Sending...';\n",
            "        e.preventDefault();\n",
            "        if (!otpbtn.classList.contains('disabled')) {\n",
            "          otpbtn.classList.add('disabled');\n",
            "          otpbtn.disabled = true;\n",
            "          csrf_token = getCookie('csrftoken');\n",
            "          let formData = new FormData();\n",
            "          formData.append('email', document.getElementById('email').value);\n",
            "          formData.append('csrfmiddlewaretoken', csrf_token);\n",
            "          fetch('/utils/sendotp', {\n",
            "            method: 'POST',\n",
            "            body: formData\n",
            "          })\n",
            "            .then(response => response.text())\n",
            "            .then(data => {\n",
            "              console.log(data);\n",
            "              if (data.startsWith(\"Error\")) {\n",
            "                otpMessage.classList.add('text-danger');\n",
            "                otpbtn.innerText = 'Error';\n",
            "              }\n",
            "              else {\n",
            "                otpMessage.classList.add('text-success');\n",
            "                otpbtn.innerText = 'OTP Sent';\n",
            "              }\n",
            "              otpMessage.innerText = data;\n",
            "            })\n",
            "            .catch(error => {\n",
            "              console.error(error)\n",
            "            })\n",
            "        }\n",
            "        else {\n",
            "          // Otp has already been sent\n",
            "        }\n",
            "\n",
            "      });\n",
            "    }\n",
            "  \n",
            "\n",
            "\n",
            "    window.onload = function () {\n",
            "        console.log(\"loaded\")\n",
            "        var typed = new Typed('#typed', {\n",
            "            strings: [\"Welcome to CodeWithHarry\", \"Learn Python\", \"Web development\", \"Data Science\", \"Machine Learning\", \"and other awesome programming concepts with me :)\"],\n",
            "            backSpeed: 15,\n",
            "            smartBackspace: true,\n",
            "            backDelay: 1200,\n",
            "            startDelay: 1000,\n",
            "            typeSpeed: 25,\n",
            "            loop: true,\n",
            "        });\n",
            "    };\n",
            "\n",
            "\n",
            "\n"
          ],
          "name": "stdout"
        }
      ]
    },
    {
      "cell_type": "code",
      "metadata": {
        "colab": {
          "base_uri": "https://localhost:8080/"
        },
        "id": "RaMvqXxSOEor",
        "outputId": "857cb1b5-585a-4eb5-9e80-982369a6a6f4"
      },
      "source": [
        "an=soup.find_all('a')\n",
        "for link in an:\n",
        "  print(link.get('href'))"
      ],
      "execution_count": null,
      "outputs": [
        {
          "output_type": "stream",
          "text": [
            "/\n",
            "/\n",
            "/videos\n",
            "/blog\n",
            "/contact\n",
            "/blog\n",
            "/videos\n",
            "/contact\n",
            "/videos\n",
            "/blog\n",
            "/contact\n",
            "#\n",
            "#\n",
            "#\n"
          ],
          "name": "stdout"
        }
      ]
    },
    {
      "cell_type": "code",
      "metadata": {
        "colab": {
          "base_uri": "https://localhost:8080/"
        },
        "id": "GGM5i3s6OYem",
        "outputId": "aa2fe498-fba7-4bc6-cd57-757566ea9f31"
      },
      "source": [
        "an=soup.find_all('a')\n",
        "all_link=set()\n",
        "for link in an:\n",
        "  if (link.get('href') !='a'):\n",
        "     all_link.add( \"https://www.codewithharry.com/\"+link.get('href'))\n",
        "     all_link.add(link)\n",
        "     print(all_link)     \n",
        "    "
      ],
      "execution_count": null,
      "outputs": [
        {
          "output_type": "stream",
          "text": [
            "{<a class=\"navbar-brand\" href=\"/\"><img alt=\"My image\" class=\"brandLogo\" src=\"/static/home/img/photo.png\"/></a>, 'https://www.codewithharry.com//'}\n",
            "{<a class=\"nav-link\" href=\"/\">Home</a>, <a class=\"navbar-brand\" href=\"/\"><img alt=\"My image\" class=\"brandLogo\" src=\"/static/home/img/photo.png\"/></a>, 'https://www.codewithharry.com//'}\n",
            "{<a class=\"nav-link\" href=\"/videos\">Videos</a>, 'https://www.codewithharry.com//videos', 'https://www.codewithharry.com//', <a class=\"nav-link\" href=\"/\">Home</a>, <a class=\"navbar-brand\" href=\"/\"><img alt=\"My image\" class=\"brandLogo\" src=\"/static/home/img/photo.png\"/></a>}\n",
            "{'https://www.codewithharry.com//blog', <a class=\"nav-link\" href=\"/videos\">Videos</a>, 'https://www.codewithharry.com//videos', 'https://www.codewithharry.com//', <a class=\"nav-link\" href=\"/\">Home</a>, <a class=\"nav-link\" href=\"/blog\">Blog</a>, <a class=\"navbar-brand\" href=\"/\"><img alt=\"My image\" class=\"brandLogo\" src=\"/static/home/img/photo.png\"/></a>}\n",
            "{<a class=\"nav-link\" href=\"/contact\">Contact Me</a>, 'https://www.codewithharry.com//blog', <a class=\"nav-link\" href=\"/videos\">Videos</a>, 'https://www.codewithharry.com//contact', 'https://www.codewithharry.com//videos', 'https://www.codewithharry.com//', <a class=\"nav-link\" href=\"/\">Home</a>, <a class=\"nav-link\" href=\"/blog\">Blog</a>, <a class=\"navbar-brand\" href=\"/\"><img alt=\"My image\" class=\"brandLogo\" src=\"/static/home/img/photo.png\"/></a>}\n",
            "{<a class=\"nav-link\" href=\"/contact\">Contact Me</a>, 'https://www.codewithharry.com//blog', <a class=\"nav-link\" href=\"/videos\">Videos</a>, 'https://www.codewithharry.com//contact', 'https://www.codewithharry.com//videos', 'https://www.codewithharry.com//', <a class=\"nav-link\" href=\"/\">Home</a>, <a class=\"btn btn-danger my-2\" href=\"/blog\">Browse Blog</a>, <a class=\"nav-link\" href=\"/blog\">Blog</a>, <a class=\"navbar-brand\" href=\"/\"><img alt=\"My image\" class=\"brandLogo\" src=\"/static/home/img/photo.png\"/></a>}\n",
            "{<a class=\"nav-link\" href=\"/contact\">Contact Me</a>, 'https://www.codewithharry.com//blog', <a class=\"nav-link\" href=\"/videos\">Videos</a>, 'https://www.codewithharry.com//contact', 'https://www.codewithharry.com//videos', <a class=\"btn btn-success my-2\" href=\"/videos\">Browse Video Tutorials</a>, 'https://www.codewithharry.com//', <a class=\"nav-link\" href=\"/\">Home</a>, <a class=\"btn btn-danger my-2\" href=\"/blog\">Browse Blog</a>, <a class=\"nav-link\" href=\"/blog\">Blog</a>, <a class=\"navbar-brand\" href=\"/\"><img alt=\"My image\" class=\"brandLogo\" src=\"/static/home/img/photo.png\"/></a>}\n",
            "{<a class=\"btn btn-primary my-2\" href=\"/contact\">Contact Me</a>, <a class=\"nav-link\" href=\"/contact\">Contact Me</a>, 'https://www.codewithharry.com//blog', <a class=\"nav-link\" href=\"/videos\">Videos</a>, 'https://www.codewithharry.com//contact', 'https://www.codewithharry.com//videos', <a class=\"btn btn-success my-2\" href=\"/videos\">Browse Video Tutorials</a>, 'https://www.codewithharry.com//', <a class=\"nav-link\" href=\"/\">Home</a>, <a class=\"btn btn-danger my-2\" href=\"/blog\">Browse Blog</a>, <a class=\"nav-link\" href=\"/blog\">Blog</a>, <a class=\"navbar-brand\" href=\"/\"><img alt=\"My image\" class=\"brandLogo\" src=\"/static/home/img/photo.png\"/></a>}\n",
            "{<a class=\"btn btn-primary my-2\" href=\"/contact\">Contact Me</a>, <a class=\"nav-link\" href=\"/contact\">Contact Me</a>, 'https://www.codewithharry.com//blog', <a class=\"nav-link\" href=\"/videos\">Videos</a>, <a class=\"btn btn-primary d-block\" href=\"/videos\">Browse Video Courses</a>, 'https://www.codewithharry.com//contact', 'https://www.codewithharry.com//videos', <a class=\"btn btn-success my-2\" href=\"/videos\">Browse Video Tutorials</a>, 'https://www.codewithharry.com//', <a class=\"nav-link\" href=\"/\">Home</a>, <a class=\"btn btn-danger my-2\" href=\"/blog\">Browse Blog</a>, <a class=\"nav-link\" href=\"/blog\">Blog</a>, <a class=\"navbar-brand\" href=\"/\"><img alt=\"My image\" class=\"brandLogo\" src=\"/static/home/img/photo.png\"/></a>}\n",
            "{<a class=\"btn btn-primary my-2\" href=\"/contact\">Contact Me</a>, <a class=\"nav-link\" href=\"/contact\">Contact Me</a>, <a class=\"btn btn-primary d-block\" href=\"/blog\">Go to Blog</a>, 'https://www.codewithharry.com//blog', <a class=\"nav-link\" href=\"/videos\">Videos</a>, <a class=\"btn btn-primary d-block\" href=\"/videos\">Browse Video Courses</a>, 'https://www.codewithharry.com//contact', 'https://www.codewithharry.com//videos', <a class=\"btn btn-success my-2\" href=\"/videos\">Browse Video Tutorials</a>, 'https://www.codewithharry.com//', <a class=\"nav-link\" href=\"/\">Home</a>, <a class=\"btn btn-danger my-2\" href=\"/blog\">Browse Blog</a>, <a class=\"nav-link\" href=\"/blog\">Blog</a>, <a class=\"navbar-brand\" href=\"/\"><img alt=\"My image\" class=\"brandLogo\" src=\"/static/home/img/photo.png\"/></a>}\n",
            "{<a class=\"btn btn-primary my-2\" href=\"/contact\">Contact Me</a>, <a class=\"nav-link\" href=\"/contact\">Contact Me</a>, <a class=\"btn btn-primary d-block\" href=\"/blog\">Go to Blog</a>, 'https://www.codewithharry.com//blog', <a class=\"nav-link\" href=\"/videos\">Videos</a>, <a class=\"btn btn-primary d-block\" href=\"/videos\">Browse Video Courses</a>, 'https://www.codewithharry.com//contact', 'https://www.codewithharry.com//videos', <a class=\"btn btn-success my-2\" href=\"/videos\">Browse Video Tutorials</a>, 'https://www.codewithharry.com//', <a class=\"nav-link\" href=\"/\">Home</a>, <a class=\"btn btn-danger my-2\" href=\"/blog\">Browse Blog</a>, <a class=\"btn btn-primary d-block\" href=\"/contact\">Contact Me</a>, <a class=\"nav-link\" href=\"/blog\">Blog</a>, <a class=\"navbar-brand\" href=\"/\"><img alt=\"My image\" class=\"brandLogo\" src=\"/static/home/img/photo.png\"/></a>}\n",
            "{<a class=\"btn btn-primary my-2\" href=\"/contact\">Contact Me</a>, 'https://www.codewithharry.com/#', <a class=\"nav-link\" href=\"/contact\">Contact Me</a>, <a class=\"btn btn-primary d-block\" href=\"/blog\">Go to Blog</a>, 'https://www.codewithharry.com//blog', <a class=\"nav-link\" href=\"/videos\">Videos</a>, <a class=\"btn btn-primary d-block\" href=\"/videos\">Browse Video Courses</a>, 'https://www.codewithharry.com//contact', 'https://www.codewithharry.com//videos', <a href=\"#\">Back to top |</a>, <a class=\"btn btn-success my-2\" href=\"/videos\">Browse Video Tutorials</a>, 'https://www.codewithharry.com//', <a class=\"nav-link\" href=\"/\">Home</a>, <a class=\"btn btn-danger my-2\" href=\"/blog\">Browse Blog</a>, <a class=\"btn btn-primary d-block\" href=\"/contact\">Contact Me</a>, <a class=\"nav-link\" href=\"/blog\">Blog</a>, <a class=\"navbar-brand\" href=\"/\"><img alt=\"My image\" class=\"brandLogo\" src=\"/static/home/img/photo.png\"/></a>}\n",
            "{<a class=\"btn btn-primary my-2\" href=\"/contact\">Contact Me</a>, 'https://www.codewithharry.com/#', <a class=\"nav-link\" href=\"/contact\">Contact Me</a>, <a class=\"btn btn-primary d-block\" href=\"/blog\">Go to Blog</a>, 'https://www.codewithharry.com//blog', <a class=\"nav-link\" href=\"/videos\">Videos</a>, <a class=\"btn btn-primary d-block\" href=\"/videos\">Browse Video Courses</a>, <a href=\"#\">Privacy |</a>, 'https://www.codewithharry.com//contact', 'https://www.codewithharry.com//videos', <a href=\"#\">Back to top |</a>, <a class=\"btn btn-success my-2\" href=\"/videos\">Browse Video Tutorials</a>, 'https://www.codewithharry.com//', <a class=\"nav-link\" href=\"/\">Home</a>, <a class=\"btn btn-danger my-2\" href=\"/blog\">Browse Blog</a>, <a class=\"btn btn-primary d-block\" href=\"/contact\">Contact Me</a>, <a class=\"nav-link\" href=\"/blog\">Blog</a>, <a class=\"navbar-brand\" href=\"/\"><img alt=\"My image\" class=\"brandLogo\" src=\"/static/home/img/photo.png\"/></a>}\n",
            "{<a class=\"btn btn-primary my-2\" href=\"/contact\">Contact Me</a>, 'https://www.codewithharry.com/#', <a class=\"nav-link\" href=\"/contact\">Contact Me</a>, <a class=\"btn btn-primary d-block\" href=\"/blog\">Go to Blog</a>, 'https://www.codewithharry.com//blog', <a class=\"nav-link\" href=\"/videos\">Videos</a>, <a class=\"btn btn-primary d-block\" href=\"/videos\">Browse Video Courses</a>, <a href=\"#\">Terms</a>, <a href=\"#\">Privacy |</a>, 'https://www.codewithharry.com//contact', 'https://www.codewithharry.com//videos', <a href=\"#\">Back to top |</a>, <a class=\"btn btn-success my-2\" href=\"/videos\">Browse Video Tutorials</a>, 'https://www.codewithharry.com//', <a class=\"nav-link\" href=\"/\">Home</a>, <a class=\"btn btn-danger my-2\" href=\"/blog\">Browse Blog</a>, <a class=\"btn btn-primary d-block\" href=\"/contact\">Contact Me</a>, <a class=\"nav-link\" href=\"/blog\">Blog</a>, <a class=\"navbar-brand\" href=\"/\"><img alt=\"My image\" class=\"brandLogo\" src=\"/static/home/img/photo.png\"/></a>}\n"
          ],
          "name": "stdout"
        }
      ]
    },
    {
      "cell_type": "code",
      "metadata": {
        "colab": {
          "base_uri": "https://localhost:8080/"
        },
        "id": "H0m1DsZAQvYZ",
        "outputId": "0ff9496a-e019-4b7c-e330-9f1adad86ae1"
      },
      "source": [
        "markup=\"<p><!-- this is cmnt--></p>\"\n",
        "soup2=BeautifulSoup(markup)\n",
        "print(soup2)\n"
      ],
      "execution_count": null,
      "outputs": [
        {
          "output_type": "stream",
          "text": [
            "<html><body><p><!-- this is cmnt--></p></body></html>\n"
          ],
          "name": "stdout"
        }
      ]
    },
    {
      "cell_type": "code",
      "metadata": {
        "colab": {
          "base_uri": "https://localhost:8080/"
        },
        "id": "vY5DjazJRbWA",
        "outputId": "2dc9ae56-311c-4508-a3a8-979d925d7fb8"
      },
      "source": [
        "markup=\"<p><!-- this is cmnt--></p>\"\n",
        "soup2=BeautifulSoup(markup)\n",
        "print(soup2.p.string)\n"
      ],
      "execution_count": null,
      "outputs": [
        {
          "output_type": "stream",
          "text": [
            " this is cmnt\n"
          ],
          "name": "stdout"
        }
      ]
    },
    {
      "cell_type": "code",
      "metadata": {
        "colab": {
          "base_uri": "https://localhost:8080/"
        },
        "id": "zg068mBESEj8",
        "outputId": "d8b9480a-692f-45c2-c02a-0f1ca3e2256a"
      },
      "source": [
        "pa=soup.find(id=\"navbarSupportedContent\")\n",
        "print(pa)"
      ],
      "execution_count": null,
      "outputs": [
        {
          "output_type": "stream",
          "text": [
            "<div class=\"collapse navbar-collapse\" id=\"navbarSupportedContent\">\n",
            "<ul class=\"navbar-nav mr-auto\">\n",
            "<li class=\"nav-item font-weight-bold\">\n",
            "<a class=\"nav-link\" href=\"/\">Home</a>\n",
            "</li>\n",
            "<li class=\"nav-item font-weight-bold\">\n",
            "<a class=\"nav-link\" href=\"/videos\">Videos</a>\n",
            "</li>\n",
            "<li class=\"nav-item font-weight-bold\">\n",
            "<a class=\"nav-link\" href=\"/blog\">Blog</a>\n",
            "</li>\n",
            "<li class=\"nav-item font-weight-bold\">\n",
            "<a class=\"nav-link\" href=\"/contact\">Contact Me</a>\n",
            "</li>\n",
            "</ul>\n",
            "<form action=\"/search/\" class=\"form-inline my-2 my-lg-0 mr-3\" method=\"get\">\n",
            "<input aria-label=\"Search\" class=\"form-control mr-sm-2\" name=\"query\" placeholder=\"Search\" type=\"search\"/>\n",
            "<button class=\"btn btn-danger my-2 my-sm-0\" type=\"submit\">Search</button>\n",
            "</form>\n",
            "<div>\n",
            "<button class=\"btn btn-danger\" data-target=\"#loginModal\" data-toggle=\"modal\" type=\"button\">Login</button>\n",
            "<button class=\"btn btn-danger\" data-target=\"#signupModal\" data-toggle=\"modal\" type=\"button\">SignUp</button>\n",
            "</div>\n",
            "</div>\n"
          ],
          "name": "stdout"
        }
      ]
    },
    {
      "cell_type": "code",
      "metadata": {
        "id": "geqnRPKSTD6c"
      },
      "source": [
        ""
      ],
      "execution_count": null,
      "outputs": []
    },
    {
      "cell_type": "code",
      "metadata": {
        "colab": {
          "base_uri": "https://localhost:8080/"
        },
        "id": "vphNfjTATHY2",
        "outputId": "4a4aea87-ee51-45f7-a872-8a2961a599a1"
      },
      "source": [
        "pa=soup.find(id=\"navbarSupportedContent\")\n",
        "print(pa.contents)"
      ],
      "execution_count": null,
      "outputs": [
        {
          "output_type": "stream",
          "text": [
            "['\\n', <ul class=\"navbar-nav mr-auto\">\n",
            "<li class=\"nav-item font-weight-bold\">\n",
            "<a class=\"nav-link\" href=\"/\">Home</a>\n",
            "</li>\n",
            "<li class=\"nav-item font-weight-bold\">\n",
            "<a class=\"nav-link\" href=\"/videos\">Videos</a>\n",
            "</li>\n",
            "<li class=\"nav-item font-weight-bold\">\n",
            "<a class=\"nav-link\" href=\"/blog\">Blog</a>\n",
            "</li>\n",
            "<li class=\"nav-item font-weight-bold\">\n",
            "<a class=\"nav-link\" href=\"/contact\">Contact Me</a>\n",
            "</li>\n",
            "</ul>, '\\n', <form action=\"/search/\" class=\"form-inline my-2 my-lg-0 mr-3\" method=\"get\">\n",
            "<input aria-label=\"Search\" class=\"form-control mr-sm-2\" name=\"query\" placeholder=\"Search\" type=\"search\"/>\n",
            "<button class=\"btn btn-danger my-2 my-sm-0\" type=\"submit\">Search</button>\n",
            "</form>, '\\n', <div>\n",
            "<button class=\"btn btn-danger\" data-target=\"#loginModal\" data-toggle=\"modal\" type=\"button\">Login</button>\n",
            "<button class=\"btn btn-danger\" data-target=\"#signupModal\" data-toggle=\"modal\" type=\"button\">SignUp</button>\n",
            "</div>, '\\n']\n"
          ],
          "name": "stdout"
        }
      ]
    },
    {
      "cell_type": "code",
      "metadata": {
        "id": "geZNoVQoTOh7"
      },
      "source": [
        ""
      ],
      "execution_count": null,
      "outputs": []
    },
    {
      "cell_type": "code",
      "metadata": {
        "colab": {
          "base_uri": "https://localhost:8080/"
        },
        "id": "YXujkh32TVJm",
        "outputId": "39beb0dc-b893-440e-f4a2-84f310dfd67c"
      },
      "source": [
        "pa=soup.find(id=\"navbarSupportedContent\")\n",
        "for elem in pa.contents:\n",
        "  print(elem)"
      ],
      "execution_count": null,
      "outputs": [
        {
          "output_type": "stream",
          "text": [
            "\n",
            "\n",
            "<ul class=\"navbar-nav mr-auto\">\n",
            "<li class=\"nav-item font-weight-bold\">\n",
            "<a class=\"nav-link\" href=\"/\">Home</a>\n",
            "</li>\n",
            "<li class=\"nav-item font-weight-bold\">\n",
            "<a class=\"nav-link\" href=\"/videos\">Videos</a>\n",
            "</li>\n",
            "<li class=\"nav-item font-weight-bold\">\n",
            "<a class=\"nav-link\" href=\"/blog\">Blog</a>\n",
            "</li>\n",
            "<li class=\"nav-item font-weight-bold\">\n",
            "<a class=\"nav-link\" href=\"/contact\">Contact Me</a>\n",
            "</li>\n",
            "</ul>\n",
            "\n",
            "\n",
            "<form action=\"/search/\" class=\"form-inline my-2 my-lg-0 mr-3\" method=\"get\">\n",
            "<input aria-label=\"Search\" class=\"form-control mr-sm-2\" name=\"query\" placeholder=\"Search\" type=\"search\"/>\n",
            "<button class=\"btn btn-danger my-2 my-sm-0\" type=\"submit\">Search</button>\n",
            "</form>\n",
            "\n",
            "\n",
            "<div>\n",
            "<button class=\"btn btn-danger\" data-target=\"#loginModal\" data-toggle=\"modal\" type=\"button\">Login</button>\n",
            "<button class=\"btn btn-danger\" data-target=\"#signupModal\" data-toggle=\"modal\" type=\"button\">SignUp</button>\n",
            "</div>\n",
            "\n",
            "\n"
          ],
          "name": "stdout"
        }
      ]
    },
    {
      "cell_type": "markdown",
      "metadata": {
        "id": "7G_uZhRVTzIt"
      },
      "source": [
        ".content = a tag's children are available as a list\n",
        "\n",
        "\n",
        "\n",
        ".children =  a tag's children are availble as a generator"
      ]
    }
  ]
}